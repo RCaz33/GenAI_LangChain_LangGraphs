{
 "cells": [
  {
   "cell_type": "code",
   "execution_count": 23,
   "metadata": {},
   "outputs": [],
   "source": [
    "# load embedding from azure\n",
    "import os\n",
    "from dotenv import load_dotenv, find_dotenv\n",
    "_ = load_dotenv(find_dotenv()) # read local .env file\n",
    "\n",
    "azure_openai_api_key = os.getenv(\"AZURE_OPENAI_API_KEY_4\")\n",
    "azure_openai_api_endpoint = os.getenv(\"AZURE_OPENAI_API_ENDPOINT_4\")\n",
    "deployment_name = os.getenv(\"AZURE_DEPLOYMENT_NAME_4\")\n"
   ]
  },
  {
   "cell_type": "code",
   "execution_count": 24,
   "metadata": {},
   "outputs": [],
   "source": [
    "# instanciate LLM\n",
    "from langchain.chat_models import AzureChatOpenAI\n",
    "\n",
    "llm = AzureChatOpenAI(api_key=azure_openai_api_key,\n",
    "                      azure_deployment=deployment_name,\n",
    "                      api_version=\"2023-12-01-preview\",\n",
    "                      azure_endpoint=azure_openai_api_endpoint,\n",
    "                      temperature=0.9\n",
    "                      )\n"
   ]
  },
  {
   "cell_type": "code",
   "execution_count": 25,
   "metadata": {},
   "outputs": [],
   "source": [
    "from langchain.embeddings import AzureOpenAIEmbeddings \n",
    "embedding_model = AzureOpenAIEmbeddings(openai_api_key=azure_openai_api_key,\n",
    "                                    azure_deployment='text-embedding-3-large',\n",
    "                                    azure_endpoint=azure_openai_api_endpoint,\n",
    "                                    openai_api_version=\"2023-05-15\",\n",
    "                                    chunk_size=500\n",
    ")"
   ]
  },
  {
   "cell_type": "code",
   "execution_count": 26,
   "metadata": {},
   "outputs": [],
   "source": [
    "### model with only database\n",
    "\n",
    "from langchain_community.vectorstores import FAISS\n",
    "faiss_vector_store = FAISS.load_local('data', \n",
    "                                embeddings=embedding_model,\n",
    "                                index_name = 'travel_geography',\n",
    "                                allow_dangerous_deserialization = True)\n",
    "\n",
    "# make request\n",
    "from langchain.chains import RetrievalQA\n",
    "qa_stuff = RetrievalQA.from_chain_type(\n",
    "    llm=llm, \n",
    "    chain_type=\"stuff\", \n",
    "    retriever=faiss_vector_store.as_retriever(search_type=\"similarity\", \n",
    "                                              search_kwargs={\"k\": 2}), \n",
    "    verbose=True) # set False when production"
   ]
  },
  {
   "cell_type": "code",
   "execution_count": 27,
   "metadata": {},
   "outputs": [
    {
     "data": {
      "text/plain": [
       "[Document(metadata={'Unnamed: 0': 1682, 'Author': 'Reid, Thomas H.', 'Title': 'Across the Equator: A Holiday Trip in Java', 'Credits': 'Produced by a Project Gutenberg volunteer from digitalmaterial generously made available by the Internet Archive', 'Language': 'English', 'LoC Class': 'DS: History: General and Eastern Hemisphere: Asia', 'Subject': 'Java (Indonesia) -- History', 'Category': 'Text', 'EBook-No.': 27556, 'Release Date': 'Dec 18, 2008', 'Most Recently Updated': 'Jan 4, 2021', 'Copyright Status': 'Public domain in the USA.', 'Downloads': '235 downloads in the last 30 days.', 'Uniform Title': nan, 'Alternate Title': nan, 'Note': nan, 'Editor': nan, 'Contents': nan, 'Illustrator': nan, 'Author of introduction, etc.': nan, 'Original Publication': nan, 'Language Note': nan, 'Translator': nan, 'Contributor': nan, 'Unknown role': nan, 'Series Title': nan, 'Commentator': nan, 'Creator': nan, 'LoC No.': nan, 'Compiler': nan, 'Annotator': nan, 'Other': nan, 'Adapter': nan, 'Engraver': nan, 'Photographer': nan, 'Publisher': nan, 'Dubious author': nan, 'Edition': nan, 'Artist': nan, 'Forger': nan}, page_content='\"Across the Equator: A Holiday Trip in Java\" by Thomas H. Reid is a travel narrative written in the early 20th century. The book details the author\\'s experiences and observations during his holiday in Java, focusing on the island\\'s scenic beauty, culture, and colonial history, while also offering practical insights for potential travelers. By chronicling his journey from Batavia through various regions, the author provides readers with an engaging glimpse into the charms and challenges of exploring this Dutch colony.  At the start of the narrative, the author expresses surprise at the lack of British interest in visiting Java, despite its proximity to Singapore and the allure of its natural beauty and archaeological wonders. Reid recounts his crossing from Singapore to Batavia, describing the impressive landscape and the efficient port arrangements he encountered on arrival. The narrative reflects a mixture of admiration for Java\\'s charm and a critique of colonial life, with a particular emphasis on the efficient management practices of the Dutch compared to British ports. Through vivid descriptions and personal anecdotes, the opening portion sets the stage for a rich exploration of Java\\'s landscape, its people, and its historical context. (This is an automatically generated summary.)'),\n",
       " Document(metadata={'Unnamed: 0': 4993, 'Author': 'Bickmore, Albert S. (Albert Smith), 1839-1914', 'Title': 'Travels in the East Indian archipelago', 'Credits': 'Peter Becker and the Online Distributed Proofreading Team at https://www.pgdp.net(This file was produced from images generously made available by The Internet Archive)', 'Language': 'English', 'LoC Class': 'DS: History: General and Eastern Hemisphere: Asia', 'Subject': 'Natural history -- Indonesia', 'Category': 'Text', 'EBook-No.': 73398, 'Release Date': 'Apr 14, 2024', 'Most Recently Updated': nan, 'Copyright Status': 'Public domain in the USA.', 'Downloads': '141 downloads in the last 30 days.', 'Uniform Title': nan, 'Alternate Title': nan, 'Note': nan, 'Editor': nan, 'Contents': nan, 'Illustrator': nan, 'Author of introduction, etc.': nan, 'Original Publication': 'London: John Murray, 1868.', 'Language Note': nan, 'Translator': nan, 'Contributor': nan, 'Unknown role': nan, 'Series Title': nan, 'Commentator': nan, 'Creator': nan, 'LoC No.': '16013008', 'Compiler': nan, 'Annotator': nan, 'Other': nan, 'Adapter': nan, 'Engraver': nan, 'Photographer': nan, 'Publisher': nan, 'Dubious author': nan, 'Edition': nan, 'Artist': nan, 'Forger': nan}, page_content='\"Travels in the East Indian Archipelago\" by Albert S. Bickmore is a detailed travelogue and scientific account written in the late 19th century. The work chronicles Bickmore\\'s journey through the East Indian Archipelago, focusing particularly on the Spice Islands and the collection of natural specimens, notably shells, as well as his observations of local cultures and geography. The narrative combines elements of personal exploration with rich historical context, offering insight into the regions visited.  At the start of the travelogue, Bickmore delineates the purpose of his voyage, emphasizing his aim to gather specimens of shells similar to those cataloged by the earlier naturalist Rumphius. As he nears Java, vivid descriptions of the environment, flora, and fauna capture his impressions of the tropical landscape. He recounts his arrival in Batavia, highlighting interactions with the local Malay population and detailing various cultural aspects, including their customs and modes of living. Bickmore\\'s meticulous observations not only serve to document his experiences but also reflect a blend of scientific inquiry and personal narrative. (This is an automatically generated summary.)')]"
      ]
     },
     "execution_count": 27,
     "metadata": {},
     "output_type": "execute_result"
    }
   ],
   "source": [
    "# chek of vector store\n",
    "faiss_vector_store.as_retriever(search_type=\"similarity\", \n",
    "                                              search_kwargs={\"k\": 2}).invoke(\"Do you have information about stuff to do in indonesia? if so can you retreive a book reference and extract from this book the top 5 activities to do with kids?\")"
   ]
  },
  {
   "cell_type": "markdown",
   "metadata": {},
   "source": [
    "if k:2 vector store dont retreive documenst with keyword Java or indonesia"
   ]
  },
  {
   "cell_type": "code",
   "execution_count": 28,
   "metadata": {},
   "outputs": [
    {
     "name": "stdout",
     "output_type": "stream",
     "text": [
      "\n",
      "\n",
      "\u001b[1m> Entering new RetrievalQA chain...\u001b[0m\n",
      "\n",
      "\u001b[1m> Finished chain.\u001b[0m\n"
     ]
    },
    {
     "data": {
      "text/plain": [
       "\"I don't have specific information on activities to do in Indonesia with kids from those books. However, I can suggest you look for recent travel guides or books specifically focusing on family travel in Indonesia for the most relevant information. If you need more guidance on where to find these resources, feel free to ask!\""
      ]
     },
     "execution_count": 28,
     "metadata": {},
     "output_type": "execute_result"
    }
   ],
   "source": [
    "# check of RetrievalQA\n",
    "qa_stuff.run(\"Do you have information about stuff to do in indonesia? if so can you retreive a book reference and extract from this book the top 5 activities to do with kids?\")"
   ]
  },
  {
   "cell_type": "code",
   "execution_count": 29,
   "metadata": {},
   "outputs": [],
   "source": [
    "from langchain.prompts import ChatPromptTemplate\n",
    "from langchain.chat_models import ChatOpenAI\n",
    "from langchain.schema.output_parser import StrOutputParser\n",
    "\n",
    "output_parser = StrOutputParser()\n",
    "\n",
    "template = \"You are an assistant for question-answering tasks. \\\n",
    "    Use the following pieces of retrieved context to extract information. \\\n",
    "        If you don't know the answer, just say that you don't know. \\\n",
    "        Provide 3 choices of book where the information can be retreived\\\n",
    "            Use three sentences maximum and keep the answer concise.\\\n",
    "Use available functions to retreive information from a QA vectorstore.\\\n",
    "      The vectorstore are summarized chunks of the book identified by the doc id in metadata of Documents in context \\\n",
    "Question: {question} \\\n",
    "Context: {context} \\\n",
    " \\\n",
    "Expected Output Format: \\\n",
    "Answer : \" \n",
    "            # In addition to your answer, extract from the metadata the information from the keys : '#Text', 'Release Date', 'Title'.\\\n",
    "            # Provide a python dictionary with metadata as keys \\\n",
    "            # and values as lists of all the retreived documents.\\\n",
    "            #     \\nDictionary:\"\n",
    "\n",
    "prompt = ChatPromptTemplate.from_template(template)"
   ]
  },
  {
   "cell_type": "code",
   "execution_count": 30,
   "metadata": {},
   "outputs": [],
   "source": [
    "# make Q&A as a chain\n",
    "\n",
    "from langchain.schema.runnable import RunnableMap\n",
    "\n",
    "chain = RunnableMap({\n",
    "    \"context\": lambda x: faiss_vector_store.as_retriever(search_kwargs={\"k\": 5}).invoke(x[\"question\"]),\n",
    "    \"question\": lambda x: x[\"question\"]\n",
    "}) | prompt | llm "
   ]
  },
  {
   "cell_type": "code",
   "execution_count": 31,
   "metadata": {},
   "outputs": [
    {
     "data": {
      "text/plain": [
       "AIMessage(content='Sure, here are some books where you can find information about life in Indonesia, particularly Java:\\n\\n1. **\"Travels in the East Indian Archipelago\" by Albert S. Bickmore** - This book offers insights into Bickmore\\'s interactions with local cultures and his observations of life in Java.\\n   \\n2. **\"Across the Equator: A Holiday Trip in Java\" by Thomas H. Reid** - Reid provides a detailed account of his travel experiences, focusing on Java’s scenic beauty and cultural life.\\n\\n3. **\"Java: The Garden of the East\" by Eliza Ruhamah Scidmore** - This travelogue describes the natural beauty and cultural intricacies of Java, aiming to inspire other travelers.\\n\\nThese books provide various perspectives on exploring and understanding life in Indonesia, especially Java.', additional_kwargs={}, response_metadata={'token_usage': {'completion_tokens': 163, 'prompt_tokens': 2939, 'total_tokens': 3102, 'completion_tokens_details': None}, 'model_name': 'gpt-4o-2024-08-06', 'system_fingerprint': 'fp_d54531d9eb', 'finish_reason': 'stop', 'logprobs': None}, id='run-b0287786-b369-49b5-b406-ca13103d099b-0')"
      ]
     },
     "execution_count": 31,
     "metadata": {},
     "output_type": "execute_result"
    }
   ],
   "source": [
    "chain.invoke({\"question\": \"Do you have information about stuff to do in indonesia? if so can you retreive a book reference and extract from this book information about life there\"})"
   ]
  },
  {
   "cell_type": "markdown",
   "metadata": {},
   "source": [
    "Without functions binded, returns a content"
   ]
  },
  {
   "cell_type": "markdown",
   "metadata": {},
   "source": [
    "### load function end of notebook"
   ]
  },
  {
   "cell_type": "code",
   "execution_count": 32,
   "metadata": {},
   "outputs": [],
   "source": [
    "# convert pydantic NOT function @tool\n",
    "# from langchain.utils.openai_functions import convert_pydantic_to_openai_function\n",
    "# convert_pydantic_to_openai_function(GetFullText)\n",
    "\n",
    "from langchain.tools.render import format_tool_to_openai_function"
   ]
  },
  {
   "cell_type": "code",
   "execution_count": 34,
   "metadata": {},
   "outputs": [],
   "source": [
    "\n",
    "chain2 = RunnableMap({\n",
    "    \"context\": lambda x: faiss_vector_store.as_retriever(search_kwargs={\"k\": 5}).invoke(x[\"question\"]),\n",
    "    \"question\": lambda x: x[\"question\"]\n",
    "}) | prompt | llm.bind(functions=[format_tool_to_openai_function(QA_retrive_from_text)])"
   ]
  },
  {
   "cell_type": "code",
   "execution_count": 35,
   "metadata": {},
   "outputs": [],
   "source": [
    "a=chain2.invoke({\"question\": \"Do you have information about stuff to do in indonesia? if so can you retreive a book reference and extract from this book information about life there\"})"
   ]
  },
  {
   "cell_type": "code",
   "execution_count": 36,
   "metadata": {},
   "outputs": [
    {
     "data": {
      "text/plain": [
       "AIMessage(content='', additional_kwargs={'function_call': {'arguments': '{\"id\":4958,\"query\":\"things to do in Indonesia\"}', 'name': 'QA_retrive_from_text'}}, response_metadata={'token_usage': {'completion_tokens': 28, 'prompt_tokens': 3008, 'total_tokens': 3036, 'completion_tokens_details': None}, 'model_name': 'gpt-4o-2024-08-06', 'system_fingerprint': 'fp_d54531d9eb', 'finish_reason': 'function_call', 'logprobs': None}, id='run-f9a9370d-7f29-408f-8884-6231915cfba7-0')"
      ]
     },
     "execution_count": 36,
     "metadata": {},
     "output_type": "execute_result"
    }
   ],
   "source": [
    "a"
   ]
  },
  {
   "cell_type": "markdown",
   "metadata": {},
   "source": [
    "function bind is working without fircong usage (content = \"\")"
   ]
  },
  {
   "cell_type": "code",
   "execution_count": 37,
   "metadata": {},
   "outputs": [
    {
     "data": {
      "text/plain": [
       "{'function_call': {'arguments': '{\"id\":4958,\"query\":\"things to do in Indonesia\"}',\n",
       "  'name': 'QA_retrive_from_text'}}"
      ]
     },
     "execution_count": 37,
     "metadata": {},
     "output_type": "execute_result"
    }
   ],
   "source": [
    "a.additional_kwargs"
   ]
  },
  {
   "cell_type": "code",
   "execution_count": 38,
   "metadata": {},
   "outputs": [
    {
     "data": {
      "text/plain": [
       "{'id': 4958, 'query': 'things to do in Indonesia'}"
      ]
     },
     "execution_count": 38,
     "metadata": {},
     "output_type": "execute_result"
    }
   ],
   "source": [
    "from langchain.output_parsers.openai_functions import JsonOutputFunctionsParser\n",
    "import json\n",
    "args = json.loads(a.additional_kwargs['function_call']['arguments'])\n",
    "args\n"
   ]
  },
  {
   "cell_type": "markdown",
   "metadata": {},
   "source": [
    "### 2_Functions .. L5_tool-rooting\n",
    "* using OpenAIFunctionsAgentOutputParser()"
   ]
  },
  {
   "cell_type": "code",
   "execution_count": 46,
   "metadata": {},
   "outputs": [],
   "source": [
    "from langchain.agents.output_parsers import OpenAIFunctionsAgentOutputParser\n",
    "\n",
    "\n",
    "\n",
    "chain3 = RunnableMap({\n",
    "    \"context\": lambda x: faiss_vector_store.as_retriever(search_kwargs={\"k\": 5}).invoke(x[\"question\"]),\n",
    "    \"question\": lambda x: x[\"question\"]\n",
    "}) | prompt | llm.bind(functions=[format_tool_to_openai_function(QA_retrive_from_text)]) | OpenAIFunctionsAgentOutputParser()"
   ]
  },
  {
   "cell_type": "code",
   "execution_count": 47,
   "metadata": {},
   "outputs": [],
   "source": [
    "b=chain3.invoke({\"question\": \"Do you have information about stuff to do in indonesia? if so can you retreive a book reference and extract from this book information about life there\"})"
   ]
  },
  {
   "cell_type": "code",
   "execution_count": 52,
   "metadata": {},
   "outputs": [
    {
     "data": {
      "text/plain": [
       "('QA_retrive_from_text',\n",
       " {'id': 4993, 'query': 'things to do in Indonesia and life there'})"
      ]
     },
     "execution_count": 52,
     "metadata": {},
     "output_type": "execute_result"
    }
   ],
   "source": [
    "b.tool, b.tool_input"
   ]
  },
  {
   "cell_type": "code",
   "execution_count": 53,
   "metadata": {},
   "outputs": [
    {
     "name": "stderr",
     "output_type": "stream",
     "text": [
      "/var/folders/dv/gzhyqctn53s9bh23g7tbvl940000gn/T/ipykernel_63149/3752776752.py:73: LangChainDeprecationWarning: The method `Chain.__call__` was deprecated in langchain 0.1.0 and will be removed in 1.0. Use :meth:`~invoke` instead.\n",
      "  return qa_chain({\"query\": query})\n"
     ]
    },
    {
     "data": {
      "text/plain": [
       "{'query': 'things to do in Indonesia and life there',\n",
       " 'result': \"Indonesia offers a diverse range of activities and experiences, reflecting its rich culture, natural beauty, and vibrant cities. Here are some highlights:\\n\\n1. **Explore Bali**: Known for its beaches, temples, and vibrant nightlife, Bali is a top destination. Don't miss the Ubud Monkey Forest and Tanah Lot Temple.\\n\\n2. **Visit Borobudur**: This iconic Buddhist temple in Central Java is one of the largest in the world and a UNESCO World Heritage site.\\n\\n3. **Dive in Raja Ampat**: Renowned for its marine biodiversity, Raja Ampat in West Papua is a paradise for scuba divers and snorkelers.\\n\\n4. **Experience Jakarta**: The capital city offers a mix of modernity and tradition with its shopping districts, historical sites, and diverse culinary scene.\\n\\n5. **Hike Mount Bromo**: Witness the stunning sunrise views from this active volcano in East Java.\\n\\n6. **Relax in Lombok**: Known for beautiful beaches and the mighty Mount Rinjani, Lombok is a quieter alternative to Bali.\\n\\n7. **Explore Komodo National Park**: Home to the famous Komodo dragons, this park offers fantastic opportunities for trekking and diving.\\n\\n8. **Visit Lake Toba**: The largest volcanic lake in the world, located in North Sumatra, is a great spot for relaxation and exploring Batak culture.\\n\\n9. **Cultural Experiences**: Participate in traditional dance performances, craft workshops, and local festivals for an immersive cultural experience.\\n\\n**Life in Indonesia**: \\n\\n- The lifestyle can vary greatly between urban and rural areas. Cities like Jakarta and Surabaya are bustling with modern amenities, while rural areas offer a more traditional and slower-paced life.\\n- The cost of living can be relatively low, but it depends on the region and lifestyle choices.\\n- The country is known for its friendly and hospitable people.\\n- The climate is typically tropical, with a wet and dry season.\\n- Indonesian cuisine is diverse, flavorful, and often spicy, with staples like rice, noodles, and a wide variety of street food.\\n\\nOverall, Indonesia offers a blend of adventure, relaxation, and cultural enrichment.\",\n",
       " 'source_documents': []}"
      ]
     },
     "execution_count": 53,
     "metadata": {},
     "output_type": "execute_result"
    }
   ],
   "source": [
    "QA_retrive_from_text(b.tool_input)"
   ]
  },
  {
   "cell_type": "code",
   "execution_count": 57,
   "metadata": {},
   "outputs": [],
   "source": [
    "result_none = chain3.invoke({\"question\":\"hi\"})"
   ]
  },
  {
   "cell_type": "code",
   "execution_count": 58,
   "metadata": {},
   "outputs": [
    {
     "data": {
      "text/plain": [
       "langchain_core.agents.AgentActionMessageLog"
      ]
     },
     "execution_count": 58,
     "metadata": {},
     "output_type": "execute_result"
    }
   ],
   "source": [
    "type(result_none)"
   ]
  },
  {
   "cell_type": "code",
   "execution_count": 54,
   "metadata": {},
   "outputs": [],
   "source": [
    "result = chain3.invoke({\"question\": \"Do you have information about stuff to do in indonesia? if so can you retreive a book reference and extract from this book information about life there\"})"
   ]
  },
  {
   "cell_type": "code",
   "execution_count": 56,
   "metadata": {},
   "outputs": [
    {
     "data": {
      "text/plain": [
       "langchain_core.agents.AgentActionMessageLog"
      ]
     },
     "execution_count": 56,
     "metadata": {},
     "output_type": "execute_result"
    }
   ],
   "source": [
    "type(result)"
   ]
  },
  {
   "cell_type": "markdown",
   "metadata": {},
   "source": [
    "If langchain need function, one needs to call function"
   ]
  },
  {
   "cell_type": "code",
   "execution_count": 60,
   "metadata": {},
   "outputs": [],
   "source": [
    "from langchain.schema.agent import AgentFinish\n",
    "def route(result):\n",
    "    if isinstance(result, AgentFinish):\n",
    "        return result.return_values['output']\n",
    "    else:\n",
    "        tools = {\n",
    "            \"QA_retrive_from_text\": QA_retrive_from_text\n",
    "        }\n",
    "        return tools[result.tool].run(result.tool_input)"
   ]
  },
  {
   "cell_type": "code",
   "execution_count": 61,
   "metadata": {},
   "outputs": [],
   "source": [
    "runnable = RunnableMap({\n",
    "    \"context\": lambda x: faiss_vector_store.as_retriever(search_kwargs={\"k\": 5}).invoke(x[\"question\"]),\n",
    "    \"question\": lambda x: x[\"question\"]\n",
    "})\n",
    "\n",
    "llm_tool = llm.bind(functions=[format_tool_to_openai_function(QA_retrive_from_text)]) \n",
    "\n",
    "chain4 = runnable | prompt | llm_tool | OpenAIFunctionsAgentOutputParser() | route"
   ]
  },
  {
   "cell_type": "code",
   "execution_count": 62,
   "metadata": {},
   "outputs": [],
   "source": [
    "result = chain4.invoke({\"question\": \"Do you have information about stuff to do in indonesia? if so can you retreive a book reference and extract from this book information about life there\"})"
   ]
  },
  {
   "cell_type": "code",
   "execution_count": 63,
   "metadata": {},
   "outputs": [
    {
     "data": {
      "text/plain": [
       "{'query': 'life in Indonesia',\n",
       " 'result': \"Life in Indonesia is diverse and multifaceted, reflecting the country's rich cultural heritage and geographical diversity. As an archipelago with over 17,000 islands, Indonesia boasts a variety of lifestyles influenced by its many ethnic groups, languages, and religions. Major cities like Jakarta and Surabaya are bustling urban centers with modern amenities, while rural areas often rely on agriculture and maintain traditional customs.\\n\\nIndonesian society is community-oriented, with strong family ties and a focus on communal values. Religion plays a significant role, with the majority being Muslim, though there are also Christian, Hindu, and Buddhist communities.\\n\\nThe cuisine is flavorful and varied, featuring dishes such as nasi goreng, satay, and rendang. Natural beauty is abundant, from the beaches of Bali to the rainforests of Sumatra and the rice terraces of Java. Despite economic growth, challenges like infrastructure development and environmental issues persist.\\n\\nOverall, life in Indonesia offers a unique blend of tradition and modernity, with rich cultural expressions and a warm, welcoming population.\",\n",
       " 'source_documents': []}"
      ]
     },
     "execution_count": 63,
     "metadata": {},
     "output_type": "execute_result"
    }
   ],
   "source": [
    "result"
   ]
  },
  {
   "cell_type": "code",
   "execution_count": 76,
   "metadata": {},
   "outputs": [
    {
     "name": "stdout",
     "output_type": "stream",
     "text": [
      "\n",
      "\n",
      "\u001b[1m> Entering new RetrievalQA chain...\u001b[0m\n",
      "\n",
      "\u001b[1m> Finished chain.\u001b[0m\n"
     ]
    },
    {
     "data": {
      "text/plain": [
       "'Here are five different topics from the ensemble of documents:\\n\\n1. **Spanish Colonial History in the Philippines:**\\n   - Explored in \"The Philippine Islands, 1493-1898 — Volume 25 of 55\" and \"The Philippine Islands, 1493-1803 — Volume 05 of 55,\" focusing on governance, commerce, and ecclesiastical affairs during Spanish colonial rule.\\n\\n2. **Cultural Experiences and Customs:**\\n   - Discussed in \"Strange Teas, Dinners, Weddings and Fetes,\" which explores diverse cultural experiences related to social events worldwide.\\n\\n3. **European Ethnicities and Historical Developments:**\\n   - Examined in \"The Peoples of Europe,\" which provides insights into the diverse ethnicities, languages, and cultures of Europe.\\n\\n4. **Scientific Inquiries and Natural Phenomena:**\\n   - Addressed in \"Miscellanea Curiosa, Vol. 1,\" covering various scientific discoveries and theories, including atmospheric vapors and magnetic compass variations.\\n\\n5. **Life and Society in Early 20th Century Persia:**\\n   - Detailed in \"Five Years in a Persian Town,\" offering a narrative of life in Yezd, Persia, from a sociological and personal perspective.'"
      ]
     },
     "execution_count": 76,
     "metadata": {},
     "output_type": "execute_result"
    }
   ],
   "source": [
    "\n",
    "# qa_stuff.run(\"what are 5 differents topics of the ensemble of documents?\")"
   ]
  },
  {
   "cell_type": "code",
   "execution_count": 70,
   "metadata": {},
   "outputs": [
    {
     "data": {
      "text/plain": [
       "Document(metadata={'Unnamed: 0': 4831, 'Author': 'Anonymous', 'Title': 'Holidays at Brighton :  or, sea-side amusements', 'Credits': 'Bob Taylor, Charlene Taylor and the Online Distributed Proofreading Team at https://www.pgdp.net(This file was produced from images generously made available by The Internet Archive)', 'Language': 'English', 'LoC Class': 'PZ: Language and Literatures: Juvenile belles lettres', 'Subject': 'Brighton (England) -- Description and travel -- Juvenile literature', 'Category': 'Text', 'EBook-No.': 71058, 'Release Date': 'Jun 27, 2023', 'Most Recently Updated': nan, 'Copyright Status': 'Public domain in the USA.', 'Downloads': '30 downloads in the last 30 days.', 'Uniform Title': nan, 'Alternate Title': nan, 'Note': nan, 'Editor': nan, 'Contents': nan, 'Illustrator': nan, 'Author of introduction, etc.': nan, 'Original Publication': 'United Kingdom: Darton and Harvey, 1834.', 'Language Note': nan, 'Translator': nan, 'Contributor': nan, 'Unknown role': nan, 'Series Title': nan, 'Commentator': nan, 'Creator': nan, 'LoC No.': nan, 'Compiler': nan, 'Annotator': nan, 'Other': nan, 'Adapter': nan, 'Engraver': nan, 'Photographer': nan, 'Publisher': nan, 'Dubious author': nan, 'Edition': nan, 'Artist': nan, 'Forger': nan}, page_content='\"Holidays at Brighton; or, Sea-side Amusements\" by Anonymous is a children\\'s book written during the early 19th century. This delightful narrative captures the experiences of two young boys, Edward and Lewis Ashton, as they enjoy a holiday in Brighton, filled with picturesque scenes, family interactions, and explorations of their coastal surroundings. The book likely targets young readers, aiming to both entertain and educate them about seaside enjoyment and the history of Brighton.  The story unfolds with the excitement of the Ashton family arriving at Brighton, where the children are eager to explore. They embark on adventures, visiting notable landmarks such as the Chain Pier and the Pavilion, while engaging in a series of playful dialogues with their father and mother about the history and mysteries of their new environment. Along their journey, they encounter local characters, learn about marine life and the effects of nature, and partake in educational activities, such as writing about their experiences in personal books. The blend of adventure, family bonding, and historical insights creates an endearing portrayal of childhood curiosity and seaside life in Brighton. (This is an automatically generated summary.)')"
      ]
     },
     "execution_count": 70,
     "metadata": {},
     "output_type": "execute_result"
    }
   ],
   "source": [
    "# debug faiss_vector_store\n",
    "docs =faiss_vector_store.as_retriever(search_kwargs={\"k\": 12}).invoke(\"DO you have information about stuff to do in indonesia? if so can you retreive a book reference and extract from this book the top 5 activities to do with kids?\")\n",
    "docs[8]"
   ]
  },
  {
   "cell_type": "markdown",
   "metadata": {},
   "source": [
    "# function agent book parser"
   ]
  },
  {
   "cell_type": "code",
   "execution_count": 71,
   "metadata": {},
   "outputs": [
    {
     "data": {
      "text/plain": [
       "{'name': 'QA_retrive_from_text',\n",
       " 'description': 'use this function to answer a query over the text referenced by this id',\n",
       " 'parameters': {'properties': {'id': {'description': 'ID of the text to parse in the function',\n",
       "    'type': 'integer'},\n",
       "   'query': {'description': 'thing to search for', 'type': 'string'}},\n",
       "  'required': ['id', 'query'],\n",
       "  'type': 'object'}}"
      ]
     },
     "execution_count": 71,
     "metadata": {},
     "output_type": "execute_result"
    }
   ],
   "source": [
    "from langchain.tools.render import format_tool_to_openai_function\n",
    "format_tool_to_openai_function(QA_retrive_from_text)"
   ]
  },
  {
   "cell_type": "code",
   "execution_count": 33,
   "metadata": {},
   "outputs": [],
   "source": [
    "from pydantic import BaseModel, Field\n",
    "import requests\n",
    "\n",
    "# loader\n",
    "# from langchain_community.document_loaders import TextLoader # not needed we load a string\n",
    "from langchain.docstore.document import Document # process string in Documents\n",
    "\n",
    "# splitter\n",
    "from langchain.text_splitter import RecursiveCharacterTextSplitter\n",
    "\n",
    "# embedding\n",
    "from langchain.vectorstores import Chroma\n",
    "from langchain_community.vectorstores import FAISS\n",
    "\n",
    "# compression\n",
    "from langchain.retrievers import ContextualCompressionRetriever\n",
    "from langchain.retrievers.document_compressors import LLMChainExtractor\n",
    "\n",
    "# define prompt\n",
    "from langchain.prompts import PromptTemplate\n",
    "\n",
    "# send query\n",
    "from langchain.chains import RetrievalQA\n",
    "\n",
    "\n",
    "# Define the input schema\n",
    "class GetFullText(BaseModel):\n",
    "    id: int = Field(description=\"ID of the text to parse in the function\")\n",
    "    query: str = Field(description=\"thing to search for\")\n",
    "\n",
    "from langchain.agents import tool\n",
    "\n",
    "\n",
    "@tool(args_schema=GetFullText)\n",
    "def QA_retrive_from_text(id: int,query: str) -> dict:\n",
    "    \"\"\"use this function to answer a query over the text referenced by this id\"\"\"\n",
    "\n",
    "\n",
    "    id_text = id\n",
    "    url_text = f\"https://www.gutenberg.org/cache/epub/{id_text}/pg{id_text}.txt\"\n",
    "\n",
    "\n",
    "    # Make the request\n",
    "    response = requests.get(url_text)\n",
    "\n",
    "    if response.status_code == 200:\n",
    "        full_text = response.content\n",
    "\n",
    "    else:\n",
    "        raise Exception(f\"text not available {response.status_code}\")\n",
    "    # load text\n",
    "    # loader = TextLoader([full_text])\n",
    "    # doc = loader.load()\n",
    "    doc = Document(full_text[:42000])\n",
    "\n",
    "    # split for generic texts\n",
    "    text_splitter = RecursiveCharacterTextSplitter.from_tiktoken_encoder(model_name=\"gpt-4\",\n",
    "                                                                        chunk_size=5000, \n",
    "                                                                        chunk_overlap=50)\n",
    "    splits = text_splitter.split_documents([doc])\n",
    "    # embedded vector store\n",
    "    vectordb = FAISS.from_documents(splits, embedding_model)\n",
    "\n",
    "    # compression\n",
    "    compressor = LLMChainExtractor.from_llm(llm)\n",
    "    compression_retriever = ContextualCompressionRetriever(base_compressor=compressor,\n",
    "                                                            base_retriever=vectordb.as_retriever(search_kwargs={\"k\": 20})) # to get maximu diverse context\n",
    "    # QA retreiver\n",
    "    qa_chain = RetrievalQA.from_chain_type(llm,\n",
    "                                            retriever=compression_retriever,\n",
    "                                            return_source_documents=True)\n",
    "\n",
    "    return qa_chain({\"query\": query})\n",
    "\n",
    "# result[\"result\"]"
   ]
  },
  {
   "cell_type": "code",
   "execution_count": 64,
   "metadata": {},
   "outputs": [
    {
     "data": {
      "text/plain": [
       "{'query': 'weather in afganistan',\n",
       " 'result': \"I don't have the current weather information for Afghanistan. You might want to check a reliable weather website or app for the latest updates.\",\n",
       " 'source_documents': []}"
      ]
     },
     "execution_count": 64,
     "metadata": {},
     "output_type": "execute_result"
    }
   ],
   "source": [
    "from langchain.tools.render import format_tool_to_openai_function\n",
    "format_tool_to_openai_function(QA_retrive_from_text)\n",
    "QA_retrive_from_text({\"id\":\"23\",\"query\":\"weather in afganistan\"})"
   ]
  }
 ],
 "metadata": {
  "kernelspec": {
   "display_name": "LangChain",
   "language": "python",
   "name": "python3"
  },
  "language_info": {
   "codemirror_mode": {
    "name": "ipython",
    "version": 3
   },
   "file_extension": ".py",
   "mimetype": "text/x-python",
   "name": "python",
   "nbconvert_exporter": "python",
   "pygments_lexer": "ipython3",
   "version": "3.11.10"
  }
 },
 "nbformat": 4,
 "nbformat_minor": 2
}
