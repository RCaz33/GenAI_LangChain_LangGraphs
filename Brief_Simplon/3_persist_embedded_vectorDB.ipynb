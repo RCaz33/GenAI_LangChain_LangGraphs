{
 "cells": [
  {
   "cell_type": "code",
   "execution_count": 1,
   "metadata": {},
   "outputs": [
    {
     "data": {
      "text/plain": [
       "(4467, 37)"
      ]
     },
     "execution_count": 1,
     "metadata": {},
     "output_type": "execute_result"
    }
   ],
   "source": [
    "import pandas as pd\n",
    "\n",
    "# load data\n",
    "data = pd.read_csv(\"data/scrapped_guttenberg_religion_paranormal.csv\")\n",
    "data.shape"
   ]
  },
  {
   "cell_type": "code",
   "execution_count": 2,
   "metadata": {},
   "outputs": [],
   "source": [
    "# filter out data wo Summary for dataframe loader\n",
    "data = data.loc[~data.Summary.isnull()]"
   ]
  },
  {
   "cell_type": "code",
   "execution_count": 3,
   "metadata": {},
   "outputs": [],
   "source": [
    "from langchain_community.document_loaders import DataFrameLoader\n",
    "\n",
    "loader = DataFrameLoader(data, page_content_column=\"Summary\")\n",
    "docs = loader.load()"
   ]
  },
  {
   "cell_type": "code",
   "execution_count": 4,
   "metadata": {},
   "outputs": [],
   "source": [
    "# docs[877].page_content\n",
    "# docs[877].metadata"
   ]
  },
  {
   "cell_type": "code",
   "execution_count": 5,
   "metadata": {},
   "outputs": [],
   "source": [
    "# usin csv loader, metadata is useless\n",
    "# from langchain_community.document_loaders.csv_loader import CSVLoader\n",
    "# loader_csv = CSVLoader(\"data/scrapped_guttenberg_travel_geography.csv\")\n",
    "# docs_csv = loader_csv.load()\n",
    "# docs_csv\n",
    "# docs_csv[766].page_content\n",
    "# docs_csv[766].metadata"
   ]
  },
  {
   "cell_type": "code",
   "execution_count": 6,
   "metadata": {},
   "outputs": [
    {
     "name": "stderr",
     "output_type": "stream",
     "text": [
      "/var/folders/dv/gzhyqctn53s9bh23g7tbvl940000gn/T/ipykernel_30970/4084954619.py:11: LangChainDeprecationWarning: The class `AzureOpenAIEmbeddings` was deprecated in LangChain 0.0.9 and will be removed in 1.0. An updated version of the class exists in the :class:`~langchain-openai package and should be used instead. To use it run `pip install -U :class:`~langchain-openai` and import as `from :class:`~langchain_openai import AzureOpenAIEmbeddings``.\n",
      "  embedding_model = AzureOpenAIEmbeddings(openai_api_key=azure_openai_api_key,\n"
     ]
    }
   ],
   "source": [
    "# load embedding from azure\n",
    "import os\n",
    "from dotenv import load_dotenv, find_dotenv\n",
    "_ = load_dotenv(find_dotenv()) # read local .env file\n",
    "\n",
    "azure_openai_api_key = os.getenv(\"AZURE_OPENAI_API_KEY_4\")\n",
    "azure_openai_api_endpoint = os.getenv(\"AZURE_OPENAI_API_ENDPOINT_4\")\n",
    "deployment_name = os.getenv(\"AZURE_DEPLOYMENT_NAME_4\")\n",
    "\n",
    "from langchain.embeddings import AzureOpenAIEmbeddings \n",
    "embedding_model = AzureOpenAIEmbeddings(openai_api_key=azure_openai_api_key,\n",
    "                                    azure_deployment='text-embedding-3-large',\n",
    "                                    azure_endpoint=azure_openai_api_endpoint,\n",
    "                                    openai_api_version=\"2023-05-15\",\n",
    "                                    chunk_size=500\n",
    ")"
   ]
  },
  {
   "cell_type": "markdown",
   "metadata": {},
   "source": [
    "#### FAISS documentation\n",
    "https://python.langchain.com/api_reference/community/vectorstores/langchain_community.vectorstores.faiss.FAISS.html#langchain_community.vectorstores.faiss.FAISS"
   ]
  },
  {
   "cell_type": "code",
   "execution_count": 8,
   "metadata": {},
   "outputs": [],
   "source": [
    "# using FAISS, we keep all information\n",
    "from langchain_community.vectorstores import FAISS\n",
    "\n",
    "metadatas = [doc.metadata for doc in docs]\n",
    "texts = [doc.page_content for doc in docs]\n",
    "faiss_vector_store = FAISS.from_texts(texts,embedding_model,metadatas)\n",
    "faiss_vector_store.save_local('data','religion_paranormal')"
   ]
  },
  {
   "cell_type": "markdown",
   "metadata": {},
   "source": [
    "### IMPORTANT : use compressor when usiong the full text"
   ]
  },
  {
   "cell_type": "markdown",
   "metadata": {},
   "source": [
    "USING FAISS HAS SEVERAL ADVANTAGE FOR RETRIEVAL\n",
    "* max_marginal_relevance_search_with_score_by_vector()\n",
    "* similarity_search_with_score_by_vector()"
   ]
  },
  {
   "cell_type": "code",
   "execution_count": 47,
   "metadata": {},
   "outputs": [],
   "source": [
    "# similarity_search_with_score_by_vector(embedding: List[float], \n",
    "#                                        k: int = 4, \n",
    "#                                        filter: Callable | Dict[str, Any] | None = None, \n",
    "#                                        fetch_k: int = 20, **kwargs: Any) \n",
    "# returns → List[Tuple[Document, float]]\n",
    "\n",
    "# similarity_search_with_score(query: str, \n",
    "#                              k: int = 4, \n",
    "#                              filter: Callable | Dict[str, Any] | None = None, \n",
    "#                              fetch_k: int = 20, \n",
    "#                              **kwargs: Any) \n",
    "# returns → List[Tuple[Document, float]]\n",
    "\n",
    "similar = faiss_vector_store.similarity_search_with_score(\"Jesus is back and alive, he will smash all\",\n",
    "                                   k=4,\n",
    "                                   fetch_k=20)"
   ]
  },
  {
   "cell_type": "markdown",
   "metadata": {},
   "source": [
    "on verifie que l'embeding fait aussi les metadata"
   ]
  },
  {
   "cell_type": "code",
   "execution_count": 52,
   "metadata": {},
   "outputs": [
    {
     "name": "stdout",
     "output_type": "stream",
     "text": [
      "score 1.3410089\n",
      "content \"His Glorious Appearing: An Exposition of Matthew Twenty-Four\" by James White is a religious treatise written in the late 19th century. The book delves into the biblical prophecies related to the second coming of Christ as articulated in Matthew 24, exploring themes of warning, faithfulness, and the signs that indicate the nearness of the end times. It seeks to provide a comprehensive understanding of these prophesied events for the spiritually attuned reader.  At the start of the text, White emphasizes God's historical pattern of revealing divine intentions to prophets as a precursor to judgment. He recounts biblical examples such as Noah and Lot to illustrate the concept of warnings issued before calamity, drawing a parallel to the expected return of Jesus Christ. The introductory section sets the stage for a detailed examination of Christ's prophecies concerning the end of the world, urging readers not to ignore the signs of His coming and to remain vigilant in faith as they navigate the challenges and tribulations of their time. (This is an automatically generated summary.)\n",
      "\n",
      "score 1.351626\n",
      "content \"Jesus, The Messiah; or, the Old Testament Prophecies Fulfilled in the New\" by an anonymous author is a religious text written in the early 19th century. This work explores the connections between the Old Testament prophecies and their fulfillment in the person of Jesus Christ as described in the New Testament. The author, aiming to deepen the understanding of these biblical truths, likely addresses theological themes related to Jesus’ identity as the Messiah and his role in salvation.  The opening of the book begins with an introduction and dedication, offering insights into the author's motivations for writing. The author expresses a desire to make the Scriptures more familiar to young readers. The first chapter delves into Genesis 3:15, introducing the concept of enmity between \"the seed of the woman\" and the serpent, which the author interprets as a foreshadowing of Christ’s victory over evil. The subsequent chapters continue to build upon this theme, drawing from a variety of Old Testament passages to illustrate how each prophecy relates to Christ's life and mission, ultimately positioning Jesus as the prophesied Messiah who fulfills God's promises of redemption. (This is an automatically generated summary.)\n",
      "\n",
      "score 1.3585403\n",
      "content \"The Speedy Appearance of Christ Desired by the Church\" by J. Church is a sermon that was transcribed from the 1815 R. Thomas edition, likely written in the early 19th century. This religious publication focuses on the deep-seated yearning of believers for the return of Jesus Christ, intertwining scriptural references and expressions of faith with reflections on communion between Christ and His Church. The sermon addresses themes of love, hope, and the longing for divine presence, specifically highlighting the anticipation of Christ's glorious second coming.  In this sermon, J. Church eloquently articulates the relationship between Christ and His Church, emphasizing the theological concept of union through metaphors such as the vine and branches, and husband and wife. The content reflects a blend of personal experiences, theological insights, and biblical exegesis, culminating in an emotional narrative about a departed friend whose life exemplified faith. Throughout the text, Church expresses a fervent desire for Christ's return as a source of hope and joy, concluding with the comforting thought of eternal life and communion with Jesus after death, illustrated poignantly through the final moments of the friend's passing. (This is an automatically generated summary.)\n",
      "\n",
      "score 1.3732471\n",
      "content \"The Truth about Jesus: Is He a Myth?\" by M. M. Mangasarian is a critical examination of the historicity of Jesus, written in the late 19th century. The book sets out to question the foundations of Christianity by analyzing the evidence and arguments surrounding the existence of Jesus, drawing parallels with mythological figures from various cultures. Mangasarian's work aims to explore whether Jesus is indeed a historical figure or merely a product of mythologization.   The opening of the book presents a thought-provoking dialogue between a Greek character who has awakened after centuries and a priest, discussing the existence of deities such as Jesus and Apollo. The Greek character grapples with the idea that if Apollo, a god he believes in, cannot be proven to exist, then perhaps Jesus too is an idol rather than a deity. The priest argues for the reality of Jesus, claiming that beliefs rooted in faith are fundamentally different from the myths of ancient religions. This sets the stage for Mangasarian’s exploration of religious narratives, inviting readers to question the origins and credibility of the stories told about Jesus while establishing a framework for the discourse that will follow. (This is an automatically generated summary.)\n",
      "\n"
     ]
    }
   ],
   "source": [
    "for sim in similar:\n",
    "    print(\"score\",sim[1])\n",
    "    print(\"content\", sim[0].page_content)\n",
    "    print()"
   ]
  },
  {
   "cell_type": "markdown",
   "metadata": {},
   "source": [
    "# Faiss vectorstore can be used as retreiver"
   ]
  },
  {
   "cell_type": "code",
   "execution_count": null,
   "metadata": {},
   "outputs": [],
   "source": [
    "retriever = faiss_vector_store.as_retriever(\n",
    "    search_type=\"mmr\",\n",
    "    search_kwargs={\"k\": 1, \"fetch_k\": 2, \"lambda_mult\": 0.5},\n",
    ")\n",
    "retriever.invoke(\"thud\")"
   ]
  },
  {
   "cell_type": "markdown",
   "metadata": {},
   "source": [
    "# load local"
   ]
  },
  {
   "cell_type": "code",
   "execution_count": null,
   "metadata": {},
   "outputs": [],
   "source": [
    "# load_local(folder_path: str, \n",
    "#            embeddings: Embeddings, \n",
    "#            index_name: str = 'index', \n",
    "#            *, \n",
    "#            allow_dangerous_deserialization: bool = False, \n",
    "#            **kwargs: Any) \n",
    "# returns → FAISS"
   ]
  },
  {
   "cell_type": "code",
   "execution_count": null,
   "metadata": {},
   "outputs": [],
   "source": [
    "faiss_vector_store = FAISS.load_local('data', \n",
    "                                embeddings=embedding_model\n",
    "                                , index_name = 'travel_geography')"
   ]
  }
 ],
 "metadata": {
  "kernelspec": {
   "display_name": "LangChain",
   "language": "python",
   "name": "python3"
  },
  "language_info": {
   "codemirror_mode": {
    "name": "ipython",
    "version": 3
   },
   "file_extension": ".py",
   "mimetype": "text/x-python",
   "name": "python",
   "nbconvert_exporter": "python",
   "pygments_lexer": "ipython3",
   "version": "3.11.10"
  }
 },
 "nbformat": 4,
 "nbformat_minor": 2
}
