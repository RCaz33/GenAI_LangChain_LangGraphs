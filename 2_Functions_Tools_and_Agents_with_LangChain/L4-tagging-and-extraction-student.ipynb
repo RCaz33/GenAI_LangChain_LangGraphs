{
 "cells": [
  {
   "cell_type": "markdown",
   "id": "16de7336",
   "metadata": {},
   "source": [
    "# Tagging and Extraction Using OpenAI functions"
   ]
  },
  {
   "cell_type": "code",
   "execution_count": 1,
   "id": "cb41f5f4-df8d-4d04-9eaa-193b8c29b00b",
   "metadata": {
    "tags": []
   },
   "outputs": [],
   "source": [
    "import os\n",
    "import openai\n",
    "\n",
    "from dotenv import load_dotenv, find_dotenv\n",
    "_ = load_dotenv(find_dotenv()) # read local .env file\n",
    "openai.api_key = os.environ['OPENAI_API_KEY']"
   ]
  },
  {
   "cell_type": "code",
   "execution_count": 2,
   "id": "bfb2ede9-b0b4-4c8c-b00f-9a9911f38614",
   "metadata": {},
   "outputs": [],
   "source": [
    "from typing import List\n",
    "from pydantic import BaseModel, Field\n",
    "from langchain.utils.openai_functions import convert_pydantic_to_openai_function"
   ]
  },
  {
   "cell_type": "code",
   "execution_count": 3,
   "id": "b3ae5481-4155-4831-a5dd-4c183b3b4990",
   "metadata": {},
   "outputs": [],
   "source": [
    "class Tagging(BaseModel):\n",
    "    \"\"\"Tag the piece of text with particular info.\"\"\"\n",
    "    sentiment: str = Field(description=\"sentiment of text, should be `pos`, `neg`, or `neutral`\")\n",
    "    language: str = Field(description=\"language of text (should be ISO 639-1 code)\")"
   ]
  },
  {
   "cell_type": "code",
   "execution_count": 4,
   "id": "3cd656b2-62be-49d4-a277-b920c67203c1",
   "metadata": {},
   "outputs": [
    {
     "name": "stderr",
     "output_type": "stream",
     "text": [
      "/var/folders/dv/gzhyqctn53s9bh23g7tbvl940000gn/T/ipykernel_3828/1725091243.py:1: LangChainDeprecationWarning: The function `convert_pydantic_to_openai_function` was deprecated in LangChain 0.1.16 and will be removed in 1.0. Use :meth:`~langchain_core.utils.function_calling.convert_to_openai_function()` instead.\n",
      "  convert_pydantic_to_openai_function(Tagging)\n"
     ]
    },
    {
     "data": {
      "text/plain": [
       "{'name': 'Tagging',\n",
       " 'description': 'Tag the piece of text with particular info.',\n",
       " 'parameters': {'properties': {'sentiment': {'description': 'sentiment of text, should be `pos`, `neg`, or `neutral`',\n",
       "    'type': 'string'},\n",
       "   'language': {'description': 'language of text (should be ISO 639-1 code)',\n",
       "    'type': 'string'}},\n",
       "  'required': ['sentiment', 'language'],\n",
       "  'type': 'object'}}"
      ]
     },
     "execution_count": 4,
     "metadata": {},
     "output_type": "execute_result"
    }
   ],
   "source": [
    "convert_pydantic_to_openai_function(Tagging)"
   ]
  },
  {
   "cell_type": "code",
   "execution_count": 5,
   "id": "ed8b15a7-450c-43d6-af44-ca63800a4619",
   "metadata": {},
   "outputs": [],
   "source": [
    "from langchain.prompts import ChatPromptTemplate\n",
    "from langchain.chat_models import ChatOpenAI"
   ]
  },
  {
   "cell_type": "code",
   "execution_count": 6,
   "id": "2cc5bac3-3783-4ce7-9de6-83c905fba7c5",
   "metadata": {},
   "outputs": [
    {
     "name": "stderr",
     "output_type": "stream",
     "text": [
      "/var/folders/dv/gzhyqctn53s9bh23g7tbvl940000gn/T/ipykernel_3828/1167291718.py:1: LangChainDeprecationWarning: The class `ChatOpenAI` was deprecated in LangChain 0.0.10 and will be removed in 1.0. An updated version of the class exists in the :class:`~langchain-openai package and should be used instead. To use it run `pip install -U :class:`~langchain-openai` and import as `from :class:`~langchain_openai import ChatOpenAI``.\n",
      "  model = ChatOpenAI(temperature=0)\n"
     ]
    }
   ],
   "source": [
    "model = ChatOpenAI(temperature=0)"
   ]
  },
  {
   "cell_type": "code",
   "execution_count": 7,
   "id": "798ac5b3-7e47-4cfb-8173-63900cf1e7f6",
   "metadata": {},
   "outputs": [],
   "source": [
    "tagging_functions = [convert_pydantic_to_openai_function(Tagging)]"
   ]
  },
  {
   "cell_type": "code",
   "execution_count": 8,
   "id": "9d558031-18cf-4791-b061-8911ce314605",
   "metadata": {},
   "outputs": [],
   "source": [
    "prompt = ChatPromptTemplate.from_messages([\n",
    "    (\"system\", \"Think carefully, and then tag the text as instructed\"),\n",
    "    (\"user\", \"{input}\")\n",
    "])"
   ]
  },
  {
   "cell_type": "code",
   "execution_count": 9,
   "id": "00607aff-a64e-42b7-8cf4-893e8393dd33",
   "metadata": {},
   "outputs": [],
   "source": [
    "model_with_functions = model.bind(\n",
    "    functions=tagging_functions,\n",
    "    function_call={\"name\": \"Tagging\"}\n",
    ")"
   ]
  },
  {
   "cell_type": "code",
   "execution_count": 10,
   "id": "1d0bc519-2b8e-40d0-88ec-fc5ef0291f16",
   "metadata": {},
   "outputs": [],
   "source": [
    "tagging_chain = prompt | model_with_functions"
   ]
  },
  {
   "cell_type": "code",
   "execution_count": 11,
   "id": "8688fdba-0996-446c-a77b-318094944998",
   "metadata": {},
   "outputs": [
    {
     "data": {
      "text/plain": [
       "AIMessage(content='', additional_kwargs={'function_call': {'arguments': '{\"sentiment\":\"pos\",\"language\":\"en\"}', 'name': 'Tagging'}}, response_metadata={'token_usage': {'completion_tokens': 10, 'prompt_tokens': 108, 'total_tokens': 118, 'completion_tokens_details': {'reasoning_tokens': 0}, 'prompt_tokens_details': {'cached_tokens': 0}}, 'model_name': 'gpt-3.5-turbo', 'system_fingerprint': None, 'finish_reason': 'stop', 'logprobs': None}, id='run-0a976960-11a4-4bf3-bf70-ec3623553a56-0')"
      ]
     },
     "execution_count": 11,
     "metadata": {},
     "output_type": "execute_result"
    }
   ],
   "source": [
    "tagging_chain.invoke({\"input\": \"I love langchain\"})"
   ]
  },
  {
   "cell_type": "code",
   "execution_count": 16,
   "id": "7df9aac5-7194-4a12-bda7-e7e83e705929",
   "metadata": {},
   "outputs": [
    {
     "data": {
      "text/plain": [
       "AIMessage(content='', additional_kwargs={'function_call': {'arguments': '{\"sentiment\":\"neg\",\"language\":\"it\"}', 'name': 'Tagging'}}, response_metadata={'token_usage': {'completion_tokens': 10, 'prompt_tokens': 111, 'total_tokens': 121, 'completion_tokens_details': {'reasoning_tokens': 0}, 'prompt_tokens_details': {'cached_tokens': 0}}, 'model_name': 'gpt-3.5-turbo', 'system_fingerprint': None, 'finish_reason': 'stop', 'logprobs': None}, id='run-ec52ac89-5902-4205-9afa-8671a825459f-0')"
      ]
     },
     "execution_count": 16,
     "metadata": {},
     "output_type": "execute_result"
    }
   ],
   "source": [
    "tagging_chain.invoke({\"input\": \"non mi piace questo cibo\"})"
   ]
  },
  {
   "cell_type": "code",
   "execution_count": 69,
   "id": "0749e408-3878-4ddd-ad33-8d5b8418a3f2",
   "metadata": {},
   "outputs": [],
   "source": [
    "from langchain.output_parsers.openai_functions import JsonOutputFunctionsParser"
   ]
  },
  {
   "cell_type": "code",
   "execution_count": 70,
   "id": "dc45243e-7225-427d-b679-d737ebaec780",
   "metadata": {},
   "outputs": [],
   "source": [
    "tagging_chain = prompt | model_with_functions | JsonOutputFunctionsParser()"
   ]
  },
  {
   "cell_type": "code",
   "execution_count": 71,
   "id": "7ba84e64-518c-40e1-a7c9-d174314bc3fb",
   "metadata": {},
   "outputs": [
    {
     "data": {
      "text/plain": [
       "{'sentiment': 'neg', 'language': 'it'}"
      ]
     },
     "execution_count": 71,
     "metadata": {},
     "output_type": "execute_result"
    }
   ],
   "source": [
    "tagging_chain.invoke({\"input\": \"non mi piace questo cibo\"})"
   ]
  },
  {
   "cell_type": "markdown",
   "id": "92e417b4-9306-413f-865f-e13dbd2d0196",
   "metadata": {},
   "source": [
    "## Extraction\n",
    "\n",
    "Extraction is similar to tagging, but used for extracting multiple pieces of information."
   ]
  },
  {
   "cell_type": "code",
   "execution_count": 72,
   "id": "97338dce-a61a-4f8b-912c-6108dcb86183",
   "metadata": {},
   "outputs": [],
   "source": [
    "from typing import Optional\n",
    "class Person(BaseModel):\n",
    "    \"\"\"Information about a person.\"\"\"\n",
    "    name: str = Field(description=\"person's name\")\n",
    "    age: Optional[int] = Field(description=\"person's age\")"
   ]
  },
  {
   "cell_type": "code",
   "execution_count": 73,
   "id": "f558fb45-f3a5-47be-8778-dddec2d00ba1",
   "metadata": {},
   "outputs": [],
   "source": [
    "class Information(BaseModel):\n",
    "    \"\"\"Information to extract.\"\"\"\n",
    "    people: List[Person] = Field(description=\"List of info about people\")"
   ]
  },
  {
   "cell_type": "code",
   "execution_count": 74,
   "id": "5eeb6028-0ade-46f6-a899-ca10f185bb24",
   "metadata": {},
   "outputs": [
    {
     "data": {
      "text/plain": [
       "{'name': 'Information',\n",
       " 'description': 'Information to extract.',\n",
       " 'parameters': {'properties': {'people': {'description': 'List of info about people',\n",
       "    'items': {'description': 'Information about a person.',\n",
       "     'properties': {'name': {'description': \"person's name\", 'type': 'string'},\n",
       "      'age': {'anyOf': [{'type': 'integer'}, {'type': 'null'}],\n",
       "       'description': \"person's age\"}},\n",
       "     'required': ['name', 'age'],\n",
       "     'type': 'object'},\n",
       "    'type': 'array'}},\n",
       "  'required': ['people'],\n",
       "  'type': 'object'}}"
      ]
     },
     "execution_count": 74,
     "metadata": {},
     "output_type": "execute_result"
    }
   ],
   "source": [
    "convert_pydantic_to_openai_function(Information)"
   ]
  },
  {
   "cell_type": "code",
   "execution_count": 75,
   "id": "f16ce50e-bad7-4fbb-b9e2-0adae6fc55f2",
   "metadata": {},
   "outputs": [],
   "source": [
    "extraction_functions = [convert_pydantic_to_openai_function(Information)]\n",
    "extraction_model = model.bind(functions=extraction_functions, function_call={\"name\": \"Information\"})"
   ]
  },
  {
   "cell_type": "code",
   "execution_count": 77,
   "id": "3ed58069-3f7c-433e-93ed-5660d21435c9",
   "metadata": {},
   "outputs": [
    {
     "data": {
      "text/plain": [
       "AIMessage(content='', additional_kwargs={'function_call': {'arguments': '{\"people\":[{\"name\":\"Joe\",\"age\":30},{\"name\":\"Martha\",\"age\":null}]}', 'name': 'Information'}}, response_metadata={'token_usage': {'completion_tokens': 21, 'prompt_tokens': 95, 'total_tokens': 116, 'completion_tokens_details': {'reasoning_tokens': 0}, 'prompt_tokens_details': {'cached_tokens': 0}}, 'model_name': 'gpt-3.5-turbo', 'system_fingerprint': None, 'finish_reason': 'stop', 'logprobs': None}, id='run-a5818912-f15a-4360-a8c4-5e1b2a6e48b5-0')"
      ]
     },
     "execution_count": 77,
     "metadata": {},
     "output_type": "execute_result"
    }
   ],
   "source": [
    "extraction_model.invoke(\"Joe is 30, his mom is Martha\")"
   ]
  },
  {
   "cell_type": "code",
   "execution_count": 78,
   "id": "172df097-250a-4813-b76d-21436c13056d",
   "metadata": {},
   "outputs": [],
   "source": [
    "prompt = ChatPromptTemplate.from_messages([\n",
    "    (\"system\", \"Extract the relevant information, if not explicitly provided do not guess. Extract partial info\"),\n",
    "    (\"human\", \"{input}\")\n",
    "])"
   ]
  },
  {
   "cell_type": "code",
   "execution_count": 79,
   "id": "dfec48d7-25a2-46d7-a7a2-33284b577dd3",
   "metadata": {},
   "outputs": [],
   "source": [
    "extraction_chain = prompt | extraction_model"
   ]
  },
  {
   "cell_type": "code",
   "execution_count": 80,
   "id": "f19622af-4b01-4145-ae5a-af15b551a182",
   "metadata": {},
   "outputs": [
    {
     "data": {
      "text/plain": [
       "AIMessage(content='', additional_kwargs={'function_call': {'arguments': '{\"people\":[{\"name\":\"Joe\",\"age\":30},{\"name\":\"Martha\",\"age\":null}]}', 'name': 'Information'}}, response_metadata={'token_usage': {'completion_tokens': 21, 'prompt_tokens': 112, 'total_tokens': 133, 'completion_tokens_details': {'reasoning_tokens': 0}, 'prompt_tokens_details': {'cached_tokens': 0}}, 'model_name': 'gpt-3.5-turbo', 'system_fingerprint': None, 'finish_reason': 'stop', 'logprobs': None}, id='run-05835fb9-5063-45d0-bfaa-a1a4eb20030b-0')"
      ]
     },
     "execution_count": 80,
     "metadata": {},
     "output_type": "execute_result"
    }
   ],
   "source": [
    "extraction_chain.invoke({\"input\": \"Joe is 30, his mom is Martha\"})"
   ]
  },
  {
   "cell_type": "code",
   "execution_count": 81,
   "id": "38989431-9a61-461e-a86f-61a7dddab63c",
   "metadata": {},
   "outputs": [],
   "source": [
    "extraction_chain = prompt | extraction_model | JsonOutputFunctionsParser()"
   ]
  },
  {
   "cell_type": "code",
   "execution_count": 82,
   "id": "13ac89c9-1e8d-4e11-8bca-909a6c34d23c",
   "metadata": {},
   "outputs": [
    {
     "data": {
      "text/plain": [
       "{'people': [{'name': 'Joe', 'age': 30}, {'name': 'Martha', 'age': None}]}"
      ]
     },
     "execution_count": 82,
     "metadata": {},
     "output_type": "execute_result"
    }
   ],
   "source": [
    "extraction_chain.invoke({\"input\": \"Joe is 30, his mom is Martha\"})"
   ]
  },
  {
   "cell_type": "code",
   "execution_count": 83,
   "id": "f8db4b39-c28b-4c0e-8b9a-55ceb8ba817e",
   "metadata": {},
   "outputs": [],
   "source": [
    "from langchain.output_parsers.openai_functions import JsonKeyOutputFunctionsParser"
   ]
  },
  {
   "cell_type": "code",
   "execution_count": 84,
   "id": "2901d3ac-4dfc-4fb9-afd3-ab056489d3ae",
   "metadata": {},
   "outputs": [],
   "source": [
    "extraction_chain = prompt | extraction_model | JsonKeyOutputFunctionsParser(key_name=\"people\")"
   ]
  },
  {
   "cell_type": "code",
   "execution_count": 85,
   "id": "c7eff400-9f3a-42a8-ba4a-a3757e7939e2",
   "metadata": {},
   "outputs": [
    {
     "data": {
      "text/plain": [
       "[{'name': 'Joe', 'age': 30}, {'name': 'Martha', 'age': None}]"
      ]
     },
     "execution_count": 85,
     "metadata": {},
     "output_type": "execute_result"
    }
   ],
   "source": [
    "extraction_chain.invoke({\"input\": \"Joe is 30, his mom is Martha\"})"
   ]
  },
  {
   "cell_type": "markdown",
   "id": "3b8524f3-a663-4007-ad59-52dfe00343e9",
   "metadata": {},
   "source": [
    "## Doing it for real\n",
    "\n",
    "We can apply tagging to a larger body of text.\n",
    "\n",
    "For example, let's load this blog post and extract tag information from a sub-set of the text."
   ]
  },
  {
   "cell_type": "code",
   "execution_count": 88,
   "id": "bc7c4a8c-d4c8-4400-b1d3-5c7c0c25786e",
   "metadata": {},
   "outputs": [],
   "source": [
    "from langchain.document_loaders import WebBaseLoader\n",
    "loader = WebBaseLoader(\"https://lilianweng.github.io/posts/2023-06-23-agent/\")\n",
    "documents = loader.load()"
   ]
  },
  {
   "cell_type": "code",
   "execution_count": 89,
   "id": "dbd2e910-e0e0-447a-8118-6fe792f04e15",
   "metadata": {},
   "outputs": [],
   "source": [
    "doc = documents[0]"
   ]
  },
  {
   "cell_type": "code",
   "execution_count": 90,
   "id": "b5e39f78-ff18-4016-a751-7d0e4c82bb36",
   "metadata": {},
   "outputs": [],
   "source": [
    "page_content = doc.page_content[:10000]"
   ]
  },
  {
   "cell_type": "code",
   "execution_count": 91,
   "id": "bb8d98ee-e9b2-4ce8-982a-c06dc006da76",
   "metadata": {
    "scrolled": true
   },
   "outputs": [
    {
     "name": "stdout",
     "output_type": "stream",
     "text": [
      "\n",
      "\n",
      "\n",
      "\n",
      "\n",
      "\n",
      "LLM Powered Autonomous Agents | Lil'Log\n",
      "\n",
      "\n",
      "\n",
      "\n",
      "\n",
      "\n",
      "\n",
      "\n",
      "\n",
      "\n",
      "\n",
      "\n",
      "\n",
      "\n",
      "\n",
      "\n",
      "\n",
      "\n",
      "\n",
      "\n",
      "\n",
      "\n",
      "\n",
      "\n",
      "\n",
      "\n",
      "\n",
      "\n",
      "\n",
      "\n",
      "\n",
      "\n",
      "\n",
      "\n",
      "\n",
      "\n",
      "\n",
      "\n",
      "\n",
      "Lil'Log\n",
      "\n",
      "\n",
      "\n",
      "\n",
      "\n",
      "\n",
      "\n",
      "\n",
      "\n",
      "\n",
      "\n",
      "\n",
      "\n",
      "\n",
      "\n",
      "\n",
      "\n",
      "\n",
      "\n",
      "\n",
      "\n",
      "\n",
      "Posts\n",
      "\n",
      "\n",
      "\n",
      "\n",
      "Archive\n",
      "\n",
      "\n",
      "\n",
      "\n",
      "Search\n",
      "\n",
      "\n",
      "\n",
      "\n",
      "Tags\n",
      "\n",
      "\n",
      "\n",
      "\n",
      "FAQ\n",
      "\n",
      "\n",
      "\n",
      "\n",
      "emojisearch.app\n",
      "\n",
      "\n",
      "\n",
      "\n",
      "\n",
      "\n",
      "\n",
      "\n",
      "\n",
      "      LLM Powered Autonomous Agents\n",
      "    \n",
      "Date: June 23, 2023  |  Estimated Reading Time: 31 min  |  Author: Lilian Weng\n",
      "\n",
      "\n",
      " \n",
      "\n",
      "\n",
      "Table of Contents\n",
      "\n",
      "\n",
      "\n",
      "Agent System Overview\n",
      "\n",
      "Component One: Planning\n",
      "\n",
      "Task Decomposition\n",
      "\n",
      "Self-Reflection\n",
      "\n",
      "\n",
      "Component Two: Memory\n",
      "\n",
      "Types of Memory\n",
      "\n",
      "Maximum Inner Product Search (MIPS)\n",
      "\n",
      "\n",
      "Component Three: Tool Use\n",
      "\n",
      "Case Studies\n",
      "\n",
      "Scientific Discovery Agent\n",
      "\n",
      "Generative Agents Simulation\n",
      "\n",
      "Proof-of-Concept Examples\n",
      "\n",
      "\n",
      "Challenges\n",
      "\n",
      "Citation\n",
      "\n",
      "References\n",
      "\n",
      "\n",
      "\n",
      "\n",
      "\n",
      "Building agents with LLM (large language model) as its core controller is a cool concept. Several proof-of-concepts demos, such as AutoGPT, GPT-Engineer and BabyAGI, serve as inspiring examples. The potentiality of LLM extends beyond generating well-written copies, stories, essays and programs; it can be framed as a powerful general\n"
     ]
    }
   ],
   "source": [
    "print(page_content[:1000])"
   ]
  },
  {
   "cell_type": "code",
   "execution_count": 92,
   "id": "9db0d107-5284-4253-b769-dfedb97ce95d",
   "metadata": {},
   "outputs": [],
   "source": [
    "class Overview(BaseModel):\n",
    "    \"\"\"Overview of a section of text.\"\"\"\n",
    "    summary: str = Field(description=\"Provide a concise summary of the content.\")\n",
    "    language: str = Field(description=\"Provide the language that the content is written in.\")\n",
    "    keywords: str = Field(description=\"Provide keywords related to the content.\")"
   ]
  },
  {
   "cell_type": "code",
   "execution_count": 93,
   "id": "6bfe7fe6-a86d-416c-a7f2-373dc70fcba5",
   "metadata": {},
   "outputs": [],
   "source": [
    "overview_tagging_function = [\n",
    "    convert_pydantic_to_openai_function(Overview)\n",
    "]\n",
    "tagging_model = model.bind(\n",
    "    functions=overview_tagging_function,\n",
    "    function_call={\"name\":\"Overview\"}\n",
    ")\n",
    "tagging_chain = prompt | tagging_model | JsonOutputFunctionsParser()"
   ]
  },
  {
   "cell_type": "code",
   "execution_count": 94,
   "id": "518f2337-a8eb-4eff-b764-b70e48545d19",
   "metadata": {},
   "outputs": [
    {
     "data": {
      "text/plain": [
       "{'summary': 'The article discusses building autonomous agents powered by LLM (large language model) with components like planning, memory, and tool use. It also covers techniques like task decomposition, self-reflection, and challenges faced in implementing LLM-powered agents.',\n",
       " 'language': 'English',\n",
       " 'keywords': 'LLM, autonomous agents, planning, memory, tool use, task decomposition, self-reflection, challenges'}"
      ]
     },
     "execution_count": 94,
     "metadata": {},
     "output_type": "execute_result"
    }
   ],
   "source": [
    "tagging_chain.invoke({\"input\": page_content})"
   ]
  },
  {
   "cell_type": "code",
   "execution_count": 95,
   "id": "5be5d604-3d95-476a-afe4-b46b021534fc",
   "metadata": {},
   "outputs": [],
   "source": [
    "class Paper(BaseModel):\n",
    "    \"\"\"Information about papers mentioned.\"\"\"\n",
    "    title: str\n",
    "    author: Optional[str]\n",
    "\n",
    "\n",
    "class Info(BaseModel):\n",
    "    \"\"\"Information to extract\"\"\"\n",
    "    papers: List[Paper]"
   ]
  },
  {
   "cell_type": "code",
   "execution_count": 96,
   "id": "8e56ca98-d05d-4199-a6ec-fe485b630da6",
   "metadata": {},
   "outputs": [],
   "source": [
    "paper_extraction_function = [\n",
    "    convert_pydantic_to_openai_function(Info)\n",
    "]\n",
    "extraction_model = model.bind(\n",
    "    functions=paper_extraction_function, \n",
    "    function_call={\"name\":\"Info\"}\n",
    ")\n",
    "extraction_chain = prompt | extraction_model | JsonKeyOutputFunctionsParser(key_name=\"papers\")"
   ]
  },
  {
   "cell_type": "code",
   "execution_count": 97,
   "id": "f082b7a0-b7ea-488a-923c-aba8e4b185a0",
   "metadata": {},
   "outputs": [
    {
     "data": {
      "text/plain": [
       "[{'title': 'LLM Powered Autonomous Agents', 'author': 'Lilian Weng'}]"
      ]
     },
     "execution_count": 97,
     "metadata": {},
     "output_type": "execute_result"
    }
   ],
   "source": [
    "extraction_chain.invoke({\"input\": page_content})"
   ]
  },
  {
   "cell_type": "code",
   "execution_count": 98,
   "id": "2a8dcce7-7032-49a8-893d-1659e2f51f03",
   "metadata": {},
   "outputs": [],
   "source": [
    "template = \"\"\"A article will be passed to you. Extract from it all papers that are mentioned by this article. \n",
    "\n",
    "Do not extract the name of the article itself. If no papers are mentioned that's fine - you don't need to extract any! Just return an empty list.\n",
    "\n",
    "Do not make up or guess ANY extra information. Only extract what exactly is in the text.\"\"\"\n",
    "\n",
    "prompt = ChatPromptTemplate.from_messages([\n",
    "    (\"system\", template),\n",
    "    (\"human\", \"{input}\")\n",
    "])"
   ]
  },
  {
   "cell_type": "code",
   "execution_count": 99,
   "id": "a5f4c8cc-d9a4-4556-a89e-94ec981c6f5e",
   "metadata": {},
   "outputs": [],
   "source": [
    "extraction_chain = prompt | extraction_model | JsonKeyOutputFunctionsParser(key_name=\"papers\")"
   ]
  },
  {
   "cell_type": "code",
   "execution_count": 100,
   "id": "b63e00b6-0f06-4e74-948e-04805e66f40c",
   "metadata": {},
   "outputs": [
    {
     "data": {
      "text/plain": [
       "[{'title': 'Chain of thought (CoT; Wei et al. 2022)', 'author': None},\n",
       " {'title': 'Tree of Thoughts (Yao et al. 2023)', 'author': None},\n",
       " {'title': 'LLM+P (Liu et al. 2023)', 'author': None},\n",
       " {'title': 'ReAct (Yao et al. 2023)', 'author': None},\n",
       " {'title': 'Reflexion (Shinn & Labash 2023)', 'author': None},\n",
       " {'title': 'Chain of Hindsight (CoH; Liu et al. 2023)', 'author': None},\n",
       " {'title': 'Algorithm Distillation (AD; Laskin et al. 2023)', 'author': None}]"
      ]
     },
     "execution_count": 100,
     "metadata": {},
     "output_type": "execute_result"
    }
   ],
   "source": [
    "extraction_chain.invoke({\"input\": page_content})"
   ]
  },
  {
   "cell_type": "code",
   "execution_count": 101,
   "id": "365bfa5b-f0d2-4a19-8db1-1b4a0f51703d",
   "metadata": {},
   "outputs": [
    {
     "data": {
      "text/plain": [
       "[]"
      ]
     },
     "execution_count": 101,
     "metadata": {},
     "output_type": "execute_result"
    }
   ],
   "source": [
    "extraction_chain.invoke({\"input\": \"hi\"})"
   ]
  },
  {
   "cell_type": "code",
   "execution_count": 102,
   "id": "7a3e18b5-0692-49dc-b589-5d4ae5a43fdd",
   "metadata": {},
   "outputs": [],
   "source": [
    "from langchain.text_splitter import RecursiveCharacterTextSplitter\n",
    "text_splitter = RecursiveCharacterTextSplitter(chunk_overlap=0)"
   ]
  },
  {
   "cell_type": "code",
   "execution_count": 103,
   "id": "a851b07c-0f73-4cf1-801f-9832190db93a",
   "metadata": {},
   "outputs": [],
   "source": [
    "splits = text_splitter.split_text(doc.page_content)"
   ]
  },
  {
   "cell_type": "code",
   "execution_count": 104,
   "id": "fbd6fd3c-8fca-4f16-a256-a66577b48eb1",
   "metadata": {},
   "outputs": [
    {
     "data": {
      "text/plain": [
       "15"
      ]
     },
     "execution_count": 104,
     "metadata": {},
     "output_type": "execute_result"
    }
   ],
   "source": [
    "len(splits)"
   ]
  },
  {
   "cell_type": "code",
   "execution_count": 105,
   "id": "6f1309bf-16a5-43ef-aa8e-427cf5120938",
   "metadata": {},
   "outputs": [],
   "source": [
    "def flatten(matrix):\n",
    "    flat_list = []\n",
    "    for row in matrix:\n",
    "        flat_list += row\n",
    "    return flat_list"
   ]
  },
  {
   "cell_type": "code",
   "execution_count": 106,
   "id": "5af35566-8f5f-4e02-86d2-c1a97ca4e573",
   "metadata": {},
   "outputs": [
    {
     "data": {
      "text/plain": [
       "[1, 2, 3, 4]"
      ]
     },
     "execution_count": 106,
     "metadata": {},
     "output_type": "execute_result"
    }
   ],
   "source": [
    "flatten([[1, 2], [3, 4]])"
   ]
  },
  {
   "cell_type": "code",
   "execution_count": 107,
   "id": "b77be284-fca5-4ab0-ab36-b83b3ab53136",
   "metadata": {
    "scrolled": true
   },
   "outputs": [
    {
     "name": "stdout",
     "output_type": "stream",
     "text": [
      "LLM Powered Autonomous Agents | Lil'Log\n",
      "\n",
      "\n",
      "\n",
      "\n",
      "\n",
      "\n",
      "\n",
      "\n",
      "\n",
      "\n",
      "\n",
      "\n",
      "\n",
      "\n",
      "\n",
      "\n",
      "\n",
      "\n",
      "\n",
      "\n",
      "\n",
      "\n",
      "\n",
      "\n",
      "\n",
      "\n",
      "\n",
      "\n",
      "\n",
      "\n",
      "\n",
      "\n",
      "\n",
      "\n",
      "\n",
      "\n",
      "\n",
      "\n",
      "\n",
      "Lil'Log\n",
      "\n",
      "\n",
      "\n",
      "\n",
      "\n",
      "\n",
      "\n",
      "\n",
      "\n",
      "\n",
      "\n",
      "\n",
      "\n",
      "\n",
      "\n",
      "\n",
      "\n",
      "\n",
      "\n",
      "\n",
      "\n",
      "\n",
      "Posts\n",
      "\n",
      "\n",
      "\n",
      "\n",
      "Archive\n",
      "\n",
      "\n",
      "\n",
      "\n",
      "Search\n",
      "\n",
      "\n",
      "\n",
      "\n",
      "Tags\n",
      "\n",
      "\n",
      "\n",
      "\n",
      "FAQ\n",
      "\n",
      "\n",
      "\n",
      "\n",
      "emojisearch.app\n",
      "\n",
      "\n",
      "\n",
      "\n",
      "\n",
      "\n",
      "\n",
      "\n",
      "\n",
      "      LLM Powered Autonomous Agents\n",
      "    \n",
      "Date: June 23, 2023  |  Estimated Reading Time: 31 min  |  Author: Lilian Weng\n",
      "\n",
      "\n",
      " \n",
      "\n",
      "\n",
      "Table of Contents\n",
      "\n",
      "\n",
      "\n",
      "Agent System Overview\n",
      "\n",
      "Component One: Planning\n",
      "\n",
      "Task Decomposition\n",
      "\n",
      "Self-Reflection\n",
      "\n",
      "\n",
      "Component Two: Memory\n",
      "\n",
      "Types of Memory\n",
      "\n",
      "Maximum Inner Product Search (MIPS)\n",
      "\n",
      "\n",
      "Component Three: Tool Use\n",
      "\n",
      "Case Studies\n",
      "\n",
      "Scientific Discovery Agent\n",
      "\n",
      "Generative Agents Simulation\n",
      "\n",
      "Proof-of-Concept Examples\n",
      "\n",
      "\n",
      "Challenges\n",
      "\n",
      "Citation\n",
      "\n",
      "References\n",
      "\n",
      "\n",
      "\n",
      "\n",
      "\n",
      "Building agents with LLM (large language model) as its core controller is a cool concept. Several proof-of-concepts demos, such as AutoGPT, GPT-Engineer and BabyAGI, serve as inspiring examples. The potentiality of LLM extends beyond generating well-written copies, stories, essays and programs; it can be framed as a powerful general problem solver.\n",
      "Agent System Overview#\n",
      "In a LLM-powered autonomous agent system, LLM functions as the agent’s brain, complemented by several key components:\n",
      "\n",
      "Planning\n",
      "\n",
      "Subgoal and decomposition: The agent breaks down large tasks into smaller, manageable subgoals, enabling efficient handling of complex tasks.\n",
      "Reflection and refinement: The agent can do self-criticism and self-reflection over past actions, learn from mistakes and refine them for future steps, thereby improving the quality of final results.\n",
      "\n",
      "\n",
      "Memory\n",
      "\n",
      "Short-term memory: I would consider all the in-context learning (See Prompt Engineering) as utilizing short-term memory of the model to learn.\n",
      "Long-term memory: This provides the agent with the capability to retain and recall (infinite) information over extended periods, often by leveraging an external vector store and fast retrieval.\n",
      "\n",
      "\n",
      "Tool use\n",
      "\n",
      "The agent learns to call external APIs for extra information that is missing from the model weights (often hard to change after pre-training), including current information, code execution capability, access to proprietary information sources and more.\n"
     ]
    }
   ],
   "source": [
    "print(splits[0])"
   ]
  },
  {
   "cell_type": "code",
   "execution_count": 108,
   "id": "67bded5d-de85-488c-bd3f-d83acbcfea33",
   "metadata": {},
   "outputs": [],
   "source": [
    "from langchain.schema.runnable import RunnableLambda"
   ]
  },
  {
   "cell_type": "code",
   "execution_count": 109,
   "id": "04233d0a-fe44-45ed-9145-af3caaa86863",
   "metadata": {},
   "outputs": [],
   "source": [
    "prep = RunnableLambda(\n",
    "    lambda x: [{\"input\": doc} for doc in text_splitter.split_text(x)]\n",
    ")"
   ]
  },
  {
   "cell_type": "code",
   "execution_count": 110,
   "id": "fa8c2f1e-f3ac-4d9c-8ded-541778a32ef9",
   "metadata": {},
   "outputs": [
    {
     "data": {
      "text/plain": [
       "[{'input': 'hi'}]"
      ]
     },
     "execution_count": 110,
     "metadata": {},
     "output_type": "execute_result"
    }
   ],
   "source": [
    "prep.invoke(\"hi\")"
   ]
  },
  {
   "cell_type": "code",
   "execution_count": 111,
   "id": "3f7d0255-4b58-42c9-a747-44768a866633",
   "metadata": {},
   "outputs": [],
   "source": [
    "chain = prep | extraction_chain.map() | flatten"
   ]
  },
  {
   "cell_type": "code",
   "execution_count": 112,
   "id": "0dfa1f67-7246-4f4f-8967-4d7266df7b7a",
   "metadata": {},
   "outputs": [
    {
     "data": {
      "text/plain": [
       "[{'title': 'AutoGPT', 'author': None},\n",
       " {'title': 'GPT-Engineer', 'author': None},\n",
       " {'title': 'BabyAGI', 'author': None},\n",
       " {'title': 'Chain of thought', 'author': 'Wei et al. 2022'},\n",
       " {'title': 'Tree of Thoughts', 'author': 'Yao et al. 2023'},\n",
       " {'title': 'LLM+P', 'author': 'Liu et al. 2023'},\n",
       " {'title': 'ReAct', 'author': 'Yao et al. 2023'},\n",
       " {'title': 'Reflexion', 'author': 'Shinn & Labash 2023'},\n",
       " {'title': 'Chain of Hindsight', 'author': 'Liu et al. 2023'},\n",
       " {'title': 'Algorithm Distillation', 'author': 'Laskin et al. 2023'},\n",
       " {'title': 'Laskin et al. 2023', 'author': None},\n",
       " {'title': 'Miller 1956', 'author': None},\n",
       " {'title': 'Duan et al. 2017', 'author': None},\n",
       " {'title': 'LSH: Locality-Sensitive Hashing', 'author': None},\n",
       " {'title': 'ANNOY: Approximate Nearest Neighbors Oh Yeah', 'author': None},\n",
       " {'title': 'HNSW: Hierarchical Navigable Small World', 'author': None},\n",
       " {'title': 'FAISS: Facebook AI Similarity Search', 'author': None},\n",
       " {'title': 'ScaNN: Scalable Nearest Neighbors', 'author': None},\n",
       " {'title': 'MRKL (Karpas et al. 2022)', 'author': None},\n",
       " {'title': 'TALM (Tool Augmented Language Models; Parisi et al. 2022)',\n",
       "  'author': None},\n",
       " {'title': 'Toolformer (Schick et al. 2023)', 'author': None},\n",
       " {'title': 'HuggingGPT (Shen et al. 2023)', 'author': None},\n",
       " {'title': 'API-Bank', 'author': 'Li et al. 2023'},\n",
       " {'title': 'ChemCrow', 'author': 'Bran et al. 2023'},\n",
       " {'title': 'Boiko et al. (2023)', 'author': None},\n",
       " {'title': 'Generative Agents Simulation', 'author': 'Park, et al. 2023'},\n",
       " {'title': 'Park et al. 2023', 'author': None},\n",
       " {'title': 'A Super Mario game in Python: MVC components split in separate files',\n",
       "  'author': None},\n",
       " {'title': 'Paper A', 'author': 'Author A'},\n",
       " {'title': 'Paper B', 'author': 'Author B'},\n",
       " {'title': 'Chain of thought prompting elicits reasoning in large language models.',\n",
       "  'author': 'Wei et al.'},\n",
       " {'title': 'Tree of Thoughts: Deliberate Problem Solving with Large Language Models',\n",
       "  'author': 'Yao et al.'},\n",
       " {'title': 'Chain of Hindsight Aligns Language Models with Feedback',\n",
       "  'author': 'Liu et al.'},\n",
       " {'title': 'LLM+P: Empowering Large Language Models with Optimal Planning Proficiency',\n",
       "  'author': 'Liu et al.'},\n",
       " {'title': 'ReAct: Synergizing reasoning and acting in language models',\n",
       "  'author': 'Yao et al.'},\n",
       " {'title': 'Reflexion: an autonomous agent with dynamic memory and self-reflection',\n",
       "  'author': 'Shinn & Labash'},\n",
       " {'title': 'In-context Reinforcement Learning with Algorithm Distillation',\n",
       "  'author': 'Laskin et al.'},\n",
       " {'title': 'MRKL Systems A modular, neuro-symbolic architecture that combines large language models, external knowledge sources and discrete reasoning',\n",
       "  'author': 'Karpas et al.'},\n",
       " {'title': 'Webgpt: Browser-assisted question-answering with human feedback',\n",
       "  'author': 'Nakano et al.'},\n",
       " {'title': 'Toolformer: Language Models Can Teach Themselves to Use Tools',\n",
       "  'author': 'Schick et al.'},\n",
       " {'title': 'API-Bank: A Benchmark for Tool-Augmented LLMs',\n",
       "  'author': 'Li et al.'},\n",
       " {'title': 'HuggingGPT: Solving AI Tasks with ChatGPT and its Friends in HuggingFace',\n",
       "  'author': 'Shen et al.'},\n",
       " {'title': 'ChemCrow: Augmenting large-language models with chemistry tools',\n",
       "  'author': 'Bran et al.'},\n",
       " {'title': 'Emergent autonomous scientific research capabilities of large language models',\n",
       "  'author': 'Boiko et al.'},\n",
       " {'title': 'Generative Agents: Interactive Simulacra of Human Behavior',\n",
       "  'author': 'Joon Sung Park, et al.'}]"
      ]
     },
     "execution_count": 112,
     "metadata": {},
     "output_type": "execute_result"
    }
   ],
   "source": [
    "chain.invoke(doc.page_content)"
   ]
  },
  {
   "cell_type": "code",
   "execution_count": null,
   "id": "68cb460a-2b56-42be-acf6-4f61e40027f4",
   "metadata": {},
   "outputs": [],
   "source": []
  },
  {
   "cell_type": "code",
   "execution_count": null,
   "id": "32277f95-fdb1-4873-b513-4aa9f7437308",
   "metadata": {},
   "outputs": [],
   "source": []
  },
  {
   "cell_type": "markdown",
   "id": "5f955b20",
   "metadata": {},
   "source": [
    "# TRY BY YOURSELF"
   ]
  },
  {
   "cell_type": "code",
   "execution_count": null,
   "id": "cbf4b7b3-13f8-4cb6-b658-a0b0af88034d",
   "metadata": {},
   "outputs": [],
   "source": []
  },
  {
   "cell_type": "code",
   "execution_count": 132,
   "id": "23fe8752-104b-4672-a024-8ef182bde883",
   "metadata": {},
   "outputs": [],
   "source": [
    "class Tagging2(BaseModel):\n",
    "    \"\"\"Tag the piece of text with particular info described in parameters\"\"\"\n",
    "    team_name: str = Field(description=\"name of the team\")\n",
    "    qbit_type: str = Field(description=\"the type of qbits, should be `superconducting`, `quantum dots`, `Trapped ion`, `photonic`, `defect based`, `topological` or `nuclear magnetic resonance`\")\n",
    "    performance_method: str = Field(description=\"performance_method is the method use to assess qbits, should be in `Quantum volume`,  `CLOPS`, `Entanglement in GHz`, `QAOA`, `QSVM`\")\n",
    "    performance_value: str = Field(description=\"performance of qubits, associated with performance_method\")"
   ]
  },
  {
   "cell_type": "code",
   "execution_count": 133,
   "id": "918dd6d5-fec4-4d08-be91-6b0bb56340ae",
   "metadata": {},
   "outputs": [],
   "source": [
    "tagging_function2 = convert_pydantic_to_openai_function(Tagging2)\n",
    "# tagging_function2"
   ]
  },
  {
   "cell_type": "code",
   "execution_count": 134,
   "id": "caf6b3ac-0367-4bf9-b01b-acebd6d1cfbf",
   "metadata": {},
   "outputs": [
    {
     "data": {
      "text/plain": [
       "{'team_name': 'Universities',\n",
       " 'qbit_type': 'neutral atom',\n",
       " 'performance_method': 'scalability',\n",
       " 'performance_value': 'advantageous'}"
      ]
     },
     "execution_count": 134,
     "metadata": {},
     "output_type": "execute_result"
    }
   ],
   "source": [
    "model2 = ChatOpenAI(temperature=0)\n",
    "\n",
    "model_with_functions2 = model2.bind(functions=[tagging_function2],\n",
    "                                   function_call = {\"name\":\"Tagging2\"})\n",
    "\n",
    "prompt2 = ChatPromptTemplate.from_messages([(\"system\",\"Think carefully, and tag the text as instructed\"),\n",
    "                                           (\"user\",\"{input}\")])\n",
    "\n",
    "tagging_chain2 = prompt2 | model_with_functions2 | JsonOutputFunctionsParser()\n",
    "\n",
    "tagging_chain2.invoke({\"input\":f\"exctract all the inf from here : {input[3500:]}\"})"
   ]
  },
  {
   "cell_type": "markdown",
   "id": "2a4722b1",
   "metadata": {},
   "source": [
    "depending which part of the intpu, it gets information BUT ONLY for 1 entity == tagging"
   ]
  },
  {
   "cell_type": "code",
   "execution_count": 136,
   "id": "a976355f",
   "metadata": {},
   "outputs": [
    {
     "data": {
      "text/plain": [
       "{'name': 'Information',\n",
       " 'description': 'information to extract',\n",
       " 'parameters': {'properties': {'labs': {'description': 'list of work related to qbits',\n",
       "    'items': {'description': 'Tag the piece of text with particular info described in parameters',\n",
       "     'properties': {'team_name': {'description': 'name of the team',\n",
       "       'type': 'string'},\n",
       "      'qbit_type': {'description': 'the type of qbits, should be `superconducting`, `quantum dots`, `Trapped ion`, `photonic`, `defect based`, `topological` or `nuclear magnetic resonance`',\n",
       "       'type': 'string'},\n",
       "      'performance_method': {'description': 'performance_method is the method use to assess qbits, should be in `Quantum volume`,  `CLOPS`, `Entanglement in GHz`, `QAOA`, `QSVM`',\n",
       "       'type': 'string'},\n",
       "      'performance_value': {'description': 'performance of qubits, associated with performance_method',\n",
       "       'type': 'string'}},\n",
       "     'required': ['team_name',\n",
       "      'qbit_type',\n",
       "      'performance_method',\n",
       "      'performance_value'],\n",
       "     'type': 'object'},\n",
       "    'type': 'array'}},\n",
       "  'required': ['labs'],\n",
       "  'type': 'object'}}"
      ]
     },
     "execution_count": 136,
     "metadata": {},
     "output_type": "execute_result"
    }
   ],
   "source": [
    "# we make a new class to extract a list of tagged info\n",
    "class Information(BaseModel):\n",
    "    \"\"\"information to extract\"\"\"\n",
    "    labs: List[Tagging2] = Field(description=\"list of work related to qbits\")\n",
    "\n",
    "convert_pydantic_to_openai_function(Information)"
   ]
  },
  {
   "cell_type": "code",
   "execution_count": 137,
   "id": "cf18e800",
   "metadata": {},
   "outputs": [],
   "source": [
    "# we make another extraction function to see if model can choose the good one \n",
    "# taggin3 not converte to openai function because extraction function wil use it\n",
    "class Tagging3(BaseModel):\n",
    "    \"\"\"Tag the piece of text with particular info described in parameters\"\"\"\n",
    "    univesrity: str = Field(description=\"name of university\")\n",
    "    doctoral_program: float = Field(description=\"name of doctoral program if related to life science, else write NaN\")\n",
    "    tuitions: float = Field(description=\"cost of tuition for 1 year study\")\n",
    "class Information3(BaseModel):\n",
    "    \"\"\"information to extract\"\"\"\n",
    "    institutions: List[Tagging3] = Field(description=\"list of university and their life science doctoral program\")\n"
   ]
  },
  {
   "cell_type": "code",
   "execution_count": 138,
   "id": "beb8c419",
   "metadata": {},
   "outputs": [],
   "source": [
    "extration_functions = [convert_pydantic_to_openai_function(Information),convert_pydantic_to_openai_function(Information3)]\n",
    "\n",
    "model3 = ChatOpenAI(temperature=0)\n",
    "extraction_model3 = model3.bind(functions=extration_functions, function_call={\"name\":\"Information\"})\n"
   ]
  },
  {
   "cell_type": "code",
   "execution_count": 139,
   "id": "5fc2721d",
   "metadata": {},
   "outputs": [
    {
     "data": {
      "text/plain": [
       "AIMessage(content='', additional_kwargs={'function_call': {'arguments': '{\"labs\":[{\"team_name\":\"Harvard University\",\"qbit_type\":\"neutral atom\",\"performance_method\":\"N/A\",\"performance_value\":\"Rydberg atoms\"},{\"team_name\":\"MIT\",\"qbit_type\":\"neutral atom\",\"performance_method\":\"N/A\",\"performance_value\":\"neutral atom arrays\"},{\"team_name\":\"Pasqal\",\"qbit_type\":\"neutral atom\",\"performance_method\":\"N/A\",\"performance_value\":\"neutral atom processors\"},{\"team_name\":\"University of Chicago\",\"qbit_type\":\"spin qubits\",\"performance_method\":\"N/A\",\"performance_value\":\"NV center spin qubits in diamond\"},{\"team_name\":\"Harvard University\",\"qbit_type\":\"spin qubits\",\"performance_method\":\"N/A\",\"performance_value\":\"quantum memories and spin qubits\"},{\"team_name\":\"University of Stuttgart\",\"qbit_type\":\"spin qubits\",\"performance_method\":\"N/A\",\"performance_value\":\"NV centers and spin qubits in diamond\"},{\"team_name\":\"Element Six\",\"qbit_type\":\"spin qubits\",\"performance_method\":\"N/A\",\"performance_value\":\"synthetic diamond qubits\"}]}', 'name': 'Information'}}, response_metadata={'token_usage': {'completion_tokens': 210, 'prompt_tokens': 526, 'total_tokens': 736, 'completion_tokens_details': {'reasoning_tokens': 0}, 'prompt_tokens_details': {'cached_tokens': 0}}, 'model_name': 'gpt-3.5-turbo', 'system_fingerprint': None, 'finish_reason': 'stop', 'logprobs': None}, id='run-5668c89e-6824-4c67-9a60-0f79cef8e264-0')"
      ]
     },
     "execution_count": 139,
     "metadata": {},
     "output_type": "execute_result"
    }
   ],
   "source": [
    "extraction_model3.invoke(input[3500:])"
   ]
  },
  {
   "cell_type": "code",
   "execution_count": 126,
   "id": "79720f42",
   "metadata": {},
   "outputs": [],
   "source": [
    "# adds a prompt template with \"system\" information\n",
    "from langchain.output_parsers.openai_functions import JsonKeyOutputFunctionsParser\n",
    "\n",
    "prompt3 = ChatPromptTemplate.from_messages([\n",
    "    (\"system\",\"extract relevant information, get info only from prompt, extract partial info if necessary\"),\n",
    "    (\"user\",\"{input}\")\n",
    "])"
   ]
  },
  {
   "cell_type": "code",
   "execution_count": 140,
   "id": "00f28817",
   "metadata": {},
   "outputs": [
    {
     "data": {
      "text/plain": [
       "{'labs': [{'team_name': 'MIT',\n",
       "   'qbit_type': 'neutral atom',\n",
       "   'performance_method': 'Quantum volume',\n",
       "   'performance_value': 'N/A'},\n",
       "  {'team_name': 'Pasqal',\n",
       "   'qbit_type': 'neutral atom',\n",
       "   'performance_method': 'Quantum volume',\n",
       "   'performance_value': 'N/A'}]}"
      ]
     },
     "execution_count": 140,
     "metadata": {},
     "output_type": "execute_result"
    }
   ],
   "source": [
    "# instanciate a chain to use output parser\n",
    "extraction_chain = prompt3 | extraction_model3 | JsonOutputFunctionsParser()\n",
    "\n",
    "# extraction_chain.invoke(input) ## wrong way to invoke because we have a ChatPromptTemplate\n",
    "\n",
    "extraction_chain.invoke({\"input\": input[-1000:]})"
   ]
  },
  {
   "cell_type": "markdown",
   "id": "ceac64c8",
   "metadata": {},
   "source": [
    "permet de sortir juste un dictionnaire avec les infos clés"
   ]
  },
  {
   "cell_type": "code",
   "execution_count": 143,
   "id": "48a0a6c2",
   "metadata": {},
   "outputs": [
    {
     "data": {
      "text/plain": [
       "{'labs': [{'team_name': 'MIT',\n",
       "   'qbit_type': 'neutral atom',\n",
       "   'performance_method': 'Quantum volume',\n",
       "   'performance_value': 'N/A'},\n",
       "  {'team_name': 'Pasqal',\n",
       "   'qbit_type': 'neutral atom',\n",
       "   'performance_method': 'Quantum volume',\n",
       "   'performance_value': 'N/A'}]}"
      ]
     },
     "execution_count": 143,
     "metadata": {},
     "output_type": "execute_result"
    }
   ],
   "source": [
    "tagging_chain2 = prompt3 | extraction_model3 | JsonKeyOutputFunctionsParser(key_name=\"labs\")\n",
    "extraction_chain.invoke({\"input\": input[-1000:]})"
   ]
  },
  {
   "cell_type": "markdown",
   "id": "e526dc4c",
   "metadata": {},
   "source": [
    "refine the system prompt"
   ]
  },
  {
   "cell_type": "code",
   "execution_count": 152,
   "id": "d1f0bb86",
   "metadata": {},
   "outputs": [
    {
     "data": {
      "text/plain": [
       "[{'team_name': 'Yale University',\n",
       "  'qbit_type': 'superconducting',\n",
       "  'performance_method': 'Quantum volume',\n",
       "  'performance_value': '64'},\n",
       " {'team_name': 'University of California, Santa Barbara (UCSB)',\n",
       "  'qbit_type': 'superconducting',\n",
       "  'performance_method': 'CLOPS',\n",
       "  'performance_value': '0.21'},\n",
       " {'team_name': 'MIT',\n",
       "  'qbit_type': 'superconducting',\n",
       "  'performance_method': 'Entanglement in GHz',\n",
       "  'performance_value': '2.5'},\n",
       " {'team_name': 'Google Quantum AI Lab',\n",
       "  'qbit_type': 'superconducting',\n",
       "  'performance_method': 'QAOA',\n",
       "  'performance_value': '0.85'},\n",
       " {'team_name': 'IBM',\n",
       "  'qbit_type': 'superconducting',\n",
       "  'performance_method': 'QSVM',\n",
       "  'performance_value': '0.92'},\n",
       " {'team_name': 'University of Maryland',\n",
       "  'qbit_type': 'Trapped ion',\n",
       "  'performance_method': 'Quantum volume',\n",
       "  'performance_value': '32'},\n",
       " {'team_name': 'University of Innsbruck, Austria',\n",
       "  'qbit_type': 'Trapped ion',\n",
       "  'performance_method': 'CLOPS',\n",
       "  'performance_value': '0.18'},\n",
       " {'team_name': 'University of Oxford',\n",
       "  'qbit_type': 'Trapped ion',\n",
       "  'performance_method': 'Entanglement in GHz',\n",
       "  'performance_value': '2.1'},\n",
       " {'team_name': 'Honeywell Quantum Solutions',\n",
       "  'qbit_type': 'Trapped ion',\n",
       "  'performance_method': 'QAOA',\n",
       "  'performance_value': '0.75'},\n",
       " {'team_name': 'Microsoft (Station Q)',\n",
       "  'qbit_type': 'Topological',\n",
       "  'performance_method': 'Quantum volume',\n",
       "  'performance_value': '48'},\n",
       " {'team_name': 'University of California, Santa Barbara',\n",
       "  'qbit_type': 'Topological',\n",
       "  'performance_method': 'CLOPS',\n",
       "  'performance_value': '0.25'},\n",
       " {'team_name': 'TU Delft (Delft University of Technology)',\n",
       "  'qbit_type': 'Topological',\n",
       "  'performance_method': 'Entanglement in GHz',\n",
       "  'performance_value': '2.3'},\n",
       " {'team_name': 'University of Bristol',\n",
       "  'qbit_type': 'Photonic',\n",
       "  'performance_method': 'Quantum volume',\n",
       "  'performance_value': '56'},\n",
       " {'team_name': 'University of Toronto',\n",
       "  'qbit_type': 'Photonic',\n",
       "  'performance_method': 'CLOPS',\n",
       "  'performance_value': '0.19'},\n",
       " {'team_name': 'Harvard University',\n",
       "  'qbit_type': 'Photonic',\n",
       "  'performance_method': 'Entanglement in GHz',\n",
       "  'performance_value': '2.2'},\n",
       " {'team_name': 'Xanadu',\n",
       "  'qbit_type': 'Photonic',\n",
       "  'performance_method': 'QAOA',\n",
       "  'performance_value': '0.81'},\n",
       " {'team_name': 'University of New South Wales (UNSW), Australia',\n",
       "  'qbit_type': 'Silicon',\n",
       "  'performance_method': 'Quantum volume',\n",
       "  'performance_value': '42'},\n",
       " {'team_name': 'University of Wisconsin–Madison',\n",
       "  'qbit_type': 'Silicon',\n",
       "  'performance_method': 'CLOPS',\n",
       "  'performance_value': '0.16'},\n",
       " {'team_name': 'Intel',\n",
       "  'qbit_type': 'Silicon',\n",
       "  'performance_method': 'Entanglement in GHz',\n",
       "  'performance_value': '2.0'},\n",
       " {'team_name': 'Harvard University',\n",
       "  'qbit_type': 'Neutral Atom',\n",
       "  'performance_method': 'Quantum volume',\n",
       "  'performance_value': '38'},\n",
       " {'team_name': 'MIT',\n",
       "  'qbit_type': 'Neutral Atom',\n",
       "  'performance_method': 'CLOPS',\n",
       "  'performance_value': '0.14'},\n",
       " {'team_name': 'Pasqal',\n",
       "  'qbit_type': 'Neutral Atom',\n",
       "  'performance_method': 'Entanglement in GHz',\n",
       "  'performance_value': '1.8'},\n",
       " {'team_name': 'University of Chicago',\n",
       "  'qbit_type': 'Spin',\n",
       "  'performance_method': 'Quantum volume',\n",
       "  'performance_value': '50'},\n",
       " {'team_name': 'Harvard University',\n",
       "  'qbit_type': 'Spin',\n",
       "  'performance_method': 'CLOPS',\n",
       "  'performance_value': '0.23'},\n",
       " {'team_name': 'University of Stuttgart',\n",
       "  'qbit_type': 'Spin',\n",
       "  'performance_method': 'Entanglement in GHz',\n",
       "  'performance_value': '2.4'},\n",
       " {'team_name': 'Element Six',\n",
       "  'qbit_type': 'Spin',\n",
       "  'performance_method': 'QAOA',\n",
       "  'performance_value': '0.79'}]"
      ]
     },
     "execution_count": 152,
     "metadata": {},
     "output_type": "execute_result"
    }
   ],
   "source": [
    "template = \"\"\"A text will be passed to you. Extract from it all qbits types that are mentioned. \n",
    "\n",
    "Extract the performance_value ONLY if they are related to the performance_method. If no qbits are mentioned that's fine - you don't need to extract any! Just return an empty list.\n",
    "\n",
    "Do not make up or guess ANY extra information. Only extract what exactly is in the text.\"\"\"\n",
    "\n",
    "prompt3 = ChatPromptTemplate.from_messages([\n",
    "    (\"system\",template),\n",
    "    (\"user\",\"{input}\")\n",
    "])\n",
    "\n",
    "\n",
    "\n",
    "model4 = ChatOpenAI(temperature=0)\n",
    "model_with_functions4 = model4.bind(functions=extration_functions, function_call={\"name\":\"Information\"})\n",
    "\n",
    "extraction_chain4 = prompt3 | model_with_functions4 | JsonKeyOutputFunctionsParser(key_name=\"labs\")\n",
    "\n",
    "extraction_chain4.invoke({\"input\":input})"
   ]
  },
  {
   "cell_type": "code",
   "execution_count": 38,
   "id": "977ef897",
   "metadata": {},
   "outputs": [],
   "source": [
    "input = \"\"\"Qubits (quantum bits) are the fundamental units of quantum information, and different types of qubits are being developed across various research institutions. Here’s a list of some prominent qubit types and the universities or organizations leading their development:\n",
    "\n",
    "### 1. **Superconducting Qubits**\n",
    "   - **Description**: These qubits are created using superconducting circuits that are cooled to near absolute zero. They are one of the most advanced types of qubits in current quantum computing research.\n",
    "   - **Universities/Institutions**:\n",
    "     - **Yale University**: Known for pioneering work in transmon qubits.\n",
    "     - **University of California, Santa Barbara (UCSB)**: Focused on superconducting circuits for quantum computation.\n",
    "     - **MIT**: Researches superconducting qubits and hybrid quantum systems.\n",
    "     - **Google Quantum AI Lab**: Developed Sycamore, a superconducting-based quantum processor.\n",
    "     - **IBM**: Leading research in superconducting qubits through IBM Q.\n",
    "\n",
    "### 2. **Trapped Ion Qubits**\n",
    "   - **Description**: These qubits use ions trapped in an electromagnetic field. The internal energy levels of these ions are manipulated using lasers to represent quantum states.\n",
    "   - **Universities/Institutions**:\n",
    "     - **University of Maryland**: Home to the Joint Quantum Institute (JQI), specializing in trapped ion research.\n",
    "     - **University of Innsbruck, Austria**: A leader in trapped ion quantum computing.\n",
    "     - **University of Oxford**: Active in trapped ion qubit research.\n",
    "     - **Honeywell Quantum Solutions**: Focuses on using trapped ion technology for scalable quantum computing.\n",
    "\n",
    "### 3. **Topological Qubits**\n",
    "   - **Description**: Based on the theory of anyons and braiding, topological qubits are still largely theoretical but promise fault-tolerant quantum computation.\n",
    "   - **Universities/Institutions**:\n",
    "     - **Microsoft (Station Q)**: Partnered with universities like **University of Copenhagen** to work on topological qubits.\n",
    "     - **University of California, Santa Barbara**: Collaborates with Microsoft on topological quantum computing.\n",
    "     - **TU Delft (Delft University of Technology)**: Leading research on Majorana fermions for topological qubits.\n",
    "\n",
    "### 4. **Photonic Qubits**\n",
    "   - **Description**: These qubits encode information in the properties of photons, such as polarization. They are promising for quantum communication.\n",
    "   - **Universities/Institutions**:\n",
    "     - **University of Bristol**: Known for research in photonic quantum computing and quantum networks.\n",
    "     - **University of Toronto**: Develops quantum photonics for quantum communication.\n",
    "     - **Harvard University**: Active in quantum optics and photonic qubits.\n",
    "     - **Xanadu**: A Canadian company specializing in photonic quantum computing.\n",
    "\n",
    "### 5. **Silicon Qubits**\n",
    "   - **Description**: These qubits are based on manipulating the quantum states of electrons in silicon. They offer a pathway to scale up quantum computers using traditional semiconductor manufacturing techniques.\n",
    "   - **Universities/Institutions**:\n",
    "     - **University of New South Wales (UNSW), Australia**: Leading research in silicon quantum computing.\n",
    "     - **University of Wisconsin–Madison**: Researches quantum dots and silicon qubits.\n",
    "     - **Intel**: Through collaboration with **QuTech** (TU Delft), Intel is working on silicon spin qubits.\n",
    "\n",
    "### 6. **Neutral Atom Qubits**\n",
    "   - **Description**: Neutral atoms are trapped in optical lattices and used to represent quantum states. These systems are advantageous due to their scalability.\n",
    "   - **Universities/Institutions**:\n",
    "     - **Harvard University**: Researching neutral atom quantum computing, especially with Rydberg atoms.\n",
    "     - **MIT**: Focused on neutral atom arrays and quantum simulations.\n",
    "     - **Pasqal**: A French company working on neutral atom quantum processors.\n",
    "\n",
    "### 7. **Spin Qubits (in diamond or other materials)**\n",
    "   - **Description**: These qubits use the spin of electrons or nuclei in materials like diamond (NV centers) or silicon. They have long coherence times.\n",
    "   - **Universities/Institutions**:\n",
    "     - **University of Chicago**: Leading work on NV center spin qubits in diamond.\n",
    "     - **Harvard University**: Engaged in research on quantum memories and spin qubits.\n",
    "     - **University of Stuttgart**: Active in NV centers and spin qubits in diamond.\n",
    "     - **Element Six**: A company working on synthetic diamond qubits for quantum computing.\n",
    "\n",
    "These universities and institutions are at the forefront of developing various qubit technologies, each with its own potential benefits and challenges in advancing quantum computing.\"\"\""
   ]
  },
  {
   "cell_type": "code",
   "execution_count": null,
   "id": "60c5f869-67cc-4b66-8d14-7d19dd01b22a",
   "metadata": {},
   "outputs": [],
   "source": []
  },
  {
   "cell_type": "code",
   "execution_count": null,
   "id": "e86b8ca5",
   "metadata": {},
   "outputs": [],
   "source": []
  },
  {
   "cell_type": "code",
   "execution_count": null,
   "id": "d2c5f945",
   "metadata": {},
   "outputs": [],
   "source": []
  },
  {
   "cell_type": "code",
   "execution_count": null,
   "id": "32492865",
   "metadata": {},
   "outputs": [],
   "source": []
  },
  {
   "cell_type": "code",
   "execution_count": null,
   "id": "5071f92a",
   "metadata": {},
   "outputs": [],
   "source": []
  },
  {
   "cell_type": "code",
   "execution_count": null,
   "id": "54dba0b3",
   "metadata": {},
   "outputs": [],
   "source": []
  }
 ],
 "metadata": {
  "kernelspec": {
   "display_name": "Python 3 (ipykernel)",
   "language": "python",
   "name": "python3"
  },
  "language_info": {
   "codemirror_mode": {
    "name": "ipython",
    "version": 3
   },
   "file_extension": ".py",
   "mimetype": "text/x-python",
   "name": "python",
   "nbconvert_exporter": "python",
   "pygments_lexer": "ipython3",
   "version": "3.11.10"
  }
 },
 "nbformat": 4,
 "nbformat_minor": 5
}
